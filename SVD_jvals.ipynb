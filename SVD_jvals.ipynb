{
 "cells": [
  {
   "cell_type": "code",
   "execution_count": 1,
   "metadata": {},
   "outputs": [],
   "source": [
    "%matplotlib inline\n",
    "import matplotlib.pyplot as plt\n",
    "import numpy as np\n",
    "import pandas as pd\n",
    "import xarray as xr\n",
    "import seaborn as sns\n",
    "\n",
    "from sklearn.decomposition import PCA\n",
    "from sklearn.preprocessing import StandardScaler\n",
    "from sklearn.metrics import mean_squared_error, r2_score"
   ]
  },
  {
   "cell_type": "code",
   "execution_count": 2,
   "metadata": {},
   "outputs": [],
   "source": [
    "import metadata_util\n",
    "spec_names = metadata_util.read_spec_names()\n",
    "phy_names = metadata_util.get_phy_names()\n",
    "jval_names = metadata_util.read_jval_names()\n",
    "used_jvals = sorted(metadata_util.get_used_jvals())"
   ]
  },
  {
   "cell_type": "code",
   "execution_count": 3,
   "metadata": {},
   "outputs": [],
   "source": [
    "import sys\n",
    "sys.path.append(\"../../GEOSChem/KPP4GC/GC_12_Standard/\") # dirty fix to allow importing\n",
    "import kpp4py"
   ]
  },
  {
   "cell_type": "markdown",
   "metadata": {},
   "source": [
    "# Prepare"
   ]
  },
  {
   "cell_type": "code",
   "execution_count": 4,
   "metadata": {},
   "outputs": [],
   "source": [
    "ds = xr.open_dataset('./KPP_fields_100.nc')\n",
    "ds.coords['nphotol'] = jval_names"
   ]
  },
  {
   "cell_type": "code",
   "execution_count": 5,
   "metadata": {},
   "outputs": [
    {
     "data": {
      "text/plain": [
       "<xarray.Dataset>\n",
       "Dimensions:   (nphotol: 130, nphy: 4, nreact: 725, nspec: 240, sample: 66240)\n",
       "Coordinates:\n",
       "  * nphotol   (nphotol) object '1/O2/O2' '2/O3/O3' '3/O3/O3(1D)' '4/H2O/H2O' ...\n",
       "  * sample    (sample) MultiIndex\n",
       "  - lev       (sample) int64 0 0 0 0 0 0 0 0 0 0 0 0 0 0 0 0 0 0 0 0 0 0 0 0 ...\n",
       "  - lat       (sample) int64 0 0 0 0 0 0 0 0 0 0 0 0 0 0 0 0 0 0 0 0 0 0 0 0 ...\n",
       "  - lon       (sample) int64 0 1 2 3 4 5 6 7 8 9 10 11 12 13 14 15 16 17 18 ...\n",
       "Dimensions without coordinates: nphy, nreact, nspec\n",
       "Data variables:\n",
       "    C_before  (sample, nspec) float64 5.722e+03 1.662e+06 1.446e+05 ...\n",
       "    C_after   (sample, nspec) float64 5.722e+03 1.662e+06 1.446e+05 ...\n",
       "    PHOTOL    (sample, nphotol) float64 0.0 0.0 0.0 0.0 0.0 0.0 0.0 0.0 0.0 ...\n",
       "    PHY       (sample, nphy) float64 203.3 703.9 2.508e+19 1.243e+14 203.3 ...\n",
       "    RCONST    (sample, nreact) float64 1.872e-15 1.668e-14 8.976e-16 ..."
      ]
     },
     "execution_count": 5,
     "metadata": {},
     "output_type": "execute_result"
    }
   ],
   "source": [
    "ds_sub = ds.isel(lev=slice(0, 20)).stack(sample=('lev', 'lat', 'lon')).transpose()\n",
    "ds_sub"
   ]
  },
  {
   "cell_type": "code",
   "execution_count": 6,
   "metadata": {},
   "outputs": [
    {
     "data": {
      "text/html": [
       "<div>\n",
       "<style scoped>\n",
       "    .dataframe tbody tr th:only-of-type {\n",
       "        vertical-align: middle;\n",
       "    }\n",
       "\n",
       "    .dataframe tbody tr th {\n",
       "        vertical-align: top;\n",
       "    }\n",
       "\n",
       "    .dataframe thead th {\n",
       "        text-align: right;\n",
       "    }\n",
       "</style>\n",
       "<table border=\"1\" class=\"dataframe\">\n",
       "  <thead>\n",
       "    <tr style=\"text-align: right;\">\n",
       "      <th></th>\n",
       "      <th>1/O2/O2</th>\n",
       "      <th>2/O3/O3</th>\n",
       "      <th>3/O3/O3(1D)</th>\n",
       "      <th>4/H2O/H2O</th>\n",
       "      <th>5/HO2/HO2</th>\n",
       "      <th>6/NO/NO</th>\n",
       "      <th>7/CH2O/H2COa</th>\n",
       "      <th>8/CH2O/H2COb</th>\n",
       "      <th>9/H2O2/H2O2</th>\n",
       "      <th>10/MP/CH3OOH</th>\n",
       "      <th>...</th>\n",
       "      <th>121/IONO2/IONO2</th>\n",
       "      <th>122/I2O2/I2O2</th>\n",
       "      <th>123/CH3I/CH3I</th>\n",
       "      <th>124/CH2I2/CH2I2</th>\n",
       "      <th>125/CH2ICl/CH2ICl</th>\n",
       "      <th>126/CH2IBr/CH2IBr</th>\n",
       "      <th>127/I2O4/I2O2</th>\n",
       "      <th>128/I2O3/I2O3</th>\n",
       "      <th>129/IBr/IBr</th>\n",
       "      <th>130/ICl/ICl</th>\n",
       "    </tr>\n",
       "  </thead>\n",
       "  <tbody>\n",
       "    <tr>\n",
       "      <th>count</th>\n",
       "      <td>6.624000e+04</td>\n",
       "      <td>6.624000e+04</td>\n",
       "      <td>6.624000e+04</td>\n",
       "      <td>66240.0</td>\n",
       "      <td>66240.0</td>\n",
       "      <td>6.624000e+04</td>\n",
       "      <td>6.624000e+04</td>\n",
       "      <td>6.624000e+04</td>\n",
       "      <td>6.624000e+04</td>\n",
       "      <td>6.624000e+04</td>\n",
       "      <td>...</td>\n",
       "      <td>66240.000000</td>\n",
       "      <td>66240.000000</td>\n",
       "      <td>6.624000e+04</td>\n",
       "      <td>66240.000000</td>\n",
       "      <td>6.624000e+04</td>\n",
       "      <td>6.624000e+04</td>\n",
       "      <td>66240.000000</td>\n",
       "      <td>66240.000000</td>\n",
       "      <td>66240.000000</td>\n",
       "      <td>66240.000000</td>\n",
       "    </tr>\n",
       "    <tr>\n",
       "      <th>mean</th>\n",
       "      <td>3.146392e-23</td>\n",
       "      <td>1.747627e-04</td>\n",
       "      <td>7.114664e-06</td>\n",
       "      <td>0.0</td>\n",
       "      <td>0.0</td>\n",
       "      <td>7.397172e-21</td>\n",
       "      <td>1.041820e-05</td>\n",
       "      <td>1.700476e-05</td>\n",
       "      <td>2.177038e-06</td>\n",
       "      <td>1.766407e-06</td>\n",
       "      <td>...</td>\n",
       "      <td>0.003438</td>\n",
       "      <td>0.016256</td>\n",
       "      <td>1.755166e-06</td>\n",
       "      <td>0.002683</td>\n",
       "      <td>4.356593e-05</td>\n",
       "      <td>1.540992e-04</td>\n",
       "      <td>0.016256</td>\n",
       "      <td>0.014323</td>\n",
       "      <td>0.033050</td>\n",
       "      <td>0.010531</td>\n",
       "    </tr>\n",
       "    <tr>\n",
       "      <th>std</th>\n",
       "      <td>1.222728e-21</td>\n",
       "      <td>2.142729e-04</td>\n",
       "      <td>1.346757e-05</td>\n",
       "      <td>0.0</td>\n",
       "      <td>0.0</td>\n",
       "      <td>2.810189e-19</td>\n",
       "      <td>1.495635e-05</td>\n",
       "      <td>2.322146e-05</td>\n",
       "      <td>3.089548e-06</td>\n",
       "      <td>2.444650e-06</td>\n",
       "      <td>...</td>\n",
       "      <td>0.004515</td>\n",
       "      <td>0.021180</td>\n",
       "      <td>2.669681e-06</td>\n",
       "      <td>0.003724</td>\n",
       "      <td>6.330642e-05</td>\n",
       "      <td>2.201932e-04</td>\n",
       "      <td>0.021180</td>\n",
       "      <td>0.018272</td>\n",
       "      <td>0.040204</td>\n",
       "      <td>0.012834</td>\n",
       "    </tr>\n",
       "    <tr>\n",
       "      <th>min</th>\n",
       "      <td>0.000000e+00</td>\n",
       "      <td>0.000000e+00</td>\n",
       "      <td>0.000000e+00</td>\n",
       "      <td>0.0</td>\n",
       "      <td>0.0</td>\n",
       "      <td>0.000000e+00</td>\n",
       "      <td>0.000000e+00</td>\n",
       "      <td>0.000000e+00</td>\n",
       "      <td>0.000000e+00</td>\n",
       "      <td>0.000000e+00</td>\n",
       "      <td>...</td>\n",
       "      <td>0.000000</td>\n",
       "      <td>0.000000</td>\n",
       "      <td>0.000000e+00</td>\n",
       "      <td>0.000000</td>\n",
       "      <td>0.000000e+00</td>\n",
       "      <td>0.000000e+00</td>\n",
       "      <td>0.000000</td>\n",
       "      <td>0.000000</td>\n",
       "      <td>0.000000</td>\n",
       "      <td>0.000000</td>\n",
       "    </tr>\n",
       "    <tr>\n",
       "      <th>25%</th>\n",
       "      <td>0.000000e+00</td>\n",
       "      <td>0.000000e+00</td>\n",
       "      <td>0.000000e+00</td>\n",
       "      <td>0.0</td>\n",
       "      <td>0.0</td>\n",
       "      <td>0.000000e+00</td>\n",
       "      <td>0.000000e+00</td>\n",
       "      <td>0.000000e+00</td>\n",
       "      <td>0.000000e+00</td>\n",
       "      <td>0.000000e+00</td>\n",
       "      <td>...</td>\n",
       "      <td>0.000000</td>\n",
       "      <td>0.000000</td>\n",
       "      <td>0.000000e+00</td>\n",
       "      <td>0.000000</td>\n",
       "      <td>0.000000e+00</td>\n",
       "      <td>0.000000e+00</td>\n",
       "      <td>0.000000</td>\n",
       "      <td>0.000000</td>\n",
       "      <td>0.000000</td>\n",
       "      <td>0.000000</td>\n",
       "    </tr>\n",
       "    <tr>\n",
       "      <th>50%</th>\n",
       "      <td>1.042390e-32</td>\n",
       "      <td>8.311273e-07</td>\n",
       "      <td>9.663448e-09</td>\n",
       "      <td>0.0</td>\n",
       "      <td>0.0</td>\n",
       "      <td>1.712309e-30</td>\n",
       "      <td>4.209816e-08</td>\n",
       "      <td>9.787369e-08</td>\n",
       "      <td>1.076910e-08</td>\n",
       "      <td>1.007236e-08</td>\n",
       "      <td>...</td>\n",
       "      <td>0.000027</td>\n",
       "      <td>0.000099</td>\n",
       "      <td>6.625537e-09</td>\n",
       "      <td>0.000015</td>\n",
       "      <td>2.042169e-07</td>\n",
       "      <td>7.509635e-07</td>\n",
       "      <td>0.000099</td>\n",
       "      <td>0.000098</td>\n",
       "      <td>0.000163</td>\n",
       "      <td>0.000055</td>\n",
       "    </tr>\n",
       "    <tr>\n",
       "      <th>75%</th>\n",
       "      <td>4.979535e-27</td>\n",
       "      <td>3.885626e-04</td>\n",
       "      <td>7.361083e-06</td>\n",
       "      <td>0.0</td>\n",
       "      <td>0.0</td>\n",
       "      <td>2.832742e-25</td>\n",
       "      <td>1.957647e-05</td>\n",
       "      <td>3.422640e-05</td>\n",
       "      <td>4.116939e-06</td>\n",
       "      <td>3.466998e-06</td>\n",
       "      <td>...</td>\n",
       "      <td>0.007213</td>\n",
       "      <td>0.033953</td>\n",
       "      <td>2.933217e-06</td>\n",
       "      <td>0.005257</td>\n",
       "      <td>7.880984e-05</td>\n",
       "      <td>2.880934e-04</td>\n",
       "      <td>0.033953</td>\n",
       "      <td>0.030616</td>\n",
       "      <td>0.074268</td>\n",
       "      <td>0.023613</td>\n",
       "    </tr>\n",
       "    <tr>\n",
       "      <th>max</th>\n",
       "      <td>1.290387e-19</td>\n",
       "      <td>8.399320e-04</td>\n",
       "      <td>8.182655e-05</td>\n",
       "      <td>0.0</td>\n",
       "      <td>0.0</td>\n",
       "      <td>3.132245e-17</td>\n",
       "      <td>6.753271e-05</td>\n",
       "      <td>1.032846e-04</td>\n",
       "      <td>1.366264e-05</td>\n",
       "      <td>1.083354e-05</td>\n",
       "      <td>...</td>\n",
       "      <td>0.019189</td>\n",
       "      <td>0.088982</td>\n",
       "      <td>1.258204e-05</td>\n",
       "      <td>0.016485</td>\n",
       "      <td>2.863845e-04</td>\n",
       "      <td>9.808105e-04</td>\n",
       "      <td>0.088982</td>\n",
       "      <td>0.074659</td>\n",
       "      <td>0.155274</td>\n",
       "      <td>0.049692</td>\n",
       "    </tr>\n",
       "  </tbody>\n",
       "</table>\n",
       "<p>8 rows × 130 columns</p>\n",
       "</div>"
      ],
      "text/plain": [
       "            1/O2/O2       2/O3/O3   3/O3/O3(1D)  4/H2O/H2O  5/HO2/HO2  \\\n",
       "count  6.624000e+04  6.624000e+04  6.624000e+04    66240.0    66240.0   \n",
       "mean   3.146392e-23  1.747627e-04  7.114664e-06        0.0        0.0   \n",
       "std    1.222728e-21  2.142729e-04  1.346757e-05        0.0        0.0   \n",
       "min    0.000000e+00  0.000000e+00  0.000000e+00        0.0        0.0   \n",
       "25%    0.000000e+00  0.000000e+00  0.000000e+00        0.0        0.0   \n",
       "50%    1.042390e-32  8.311273e-07  9.663448e-09        0.0        0.0   \n",
       "75%    4.979535e-27  3.885626e-04  7.361083e-06        0.0        0.0   \n",
       "max    1.290387e-19  8.399320e-04  8.182655e-05        0.0        0.0   \n",
       "\n",
       "            6/NO/NO  7/CH2O/H2COa  8/CH2O/H2COb   9/H2O2/H2O2  10/MP/CH3OOH  \\\n",
       "count  6.624000e+04  6.624000e+04  6.624000e+04  6.624000e+04  6.624000e+04   \n",
       "mean   7.397172e-21  1.041820e-05  1.700476e-05  2.177038e-06  1.766407e-06   \n",
       "std    2.810189e-19  1.495635e-05  2.322146e-05  3.089548e-06  2.444650e-06   \n",
       "min    0.000000e+00  0.000000e+00  0.000000e+00  0.000000e+00  0.000000e+00   \n",
       "25%    0.000000e+00  0.000000e+00  0.000000e+00  0.000000e+00  0.000000e+00   \n",
       "50%    1.712309e-30  4.209816e-08  9.787369e-08  1.076910e-08  1.007236e-08   \n",
       "75%    2.832742e-25  1.957647e-05  3.422640e-05  4.116939e-06  3.466998e-06   \n",
       "max    3.132245e-17  6.753271e-05  1.032846e-04  1.366264e-05  1.083354e-05   \n",
       "\n",
       "           ...       121/IONO2/IONO2  122/I2O2/I2O2  123/CH3I/CH3I  \\\n",
       "count      ...          66240.000000   66240.000000   6.624000e+04   \n",
       "mean       ...              0.003438       0.016256   1.755166e-06   \n",
       "std        ...              0.004515       0.021180   2.669681e-06   \n",
       "min        ...              0.000000       0.000000   0.000000e+00   \n",
       "25%        ...              0.000000       0.000000   0.000000e+00   \n",
       "50%        ...              0.000027       0.000099   6.625537e-09   \n",
       "75%        ...              0.007213       0.033953   2.933217e-06   \n",
       "max        ...              0.019189       0.088982   1.258204e-05   \n",
       "\n",
       "       124/CH2I2/CH2I2  125/CH2ICl/CH2ICl  126/CH2IBr/CH2IBr  127/I2O4/I2O2  \\\n",
       "count     66240.000000       6.624000e+04       6.624000e+04   66240.000000   \n",
       "mean          0.002683       4.356593e-05       1.540992e-04       0.016256   \n",
       "std           0.003724       6.330642e-05       2.201932e-04       0.021180   \n",
       "min           0.000000       0.000000e+00       0.000000e+00       0.000000   \n",
       "25%           0.000000       0.000000e+00       0.000000e+00       0.000000   \n",
       "50%           0.000015       2.042169e-07       7.509635e-07       0.000099   \n",
       "75%           0.005257       7.880984e-05       2.880934e-04       0.033953   \n",
       "max           0.016485       2.863845e-04       9.808105e-04       0.088982   \n",
       "\n",
       "       128/I2O3/I2O3   129/IBr/IBr   130/ICl/ICl  \n",
       "count   66240.000000  66240.000000  66240.000000  \n",
       "mean        0.014323      0.033050      0.010531  \n",
       "std         0.018272      0.040204      0.012834  \n",
       "min         0.000000      0.000000      0.000000  \n",
       "25%         0.000000      0.000000      0.000000  \n",
       "50%         0.000098      0.000163      0.000055  \n",
       "75%         0.030616      0.074268      0.023613  \n",
       "max         0.074659      0.155274      0.049692  \n",
       "\n",
       "[8 rows x 130 columns]"
      ]
     },
     "execution_count": 6,
     "metadata": {},
     "output_type": "execute_result"
    }
   ],
   "source": [
    "df_jval_all = pd.DataFrame(ds_sub['PHOTOL'].values, columns=jval_names)\n",
    "df_jval_all.describe()"
   ]
  },
  {
   "cell_type": "code",
   "execution_count": 7,
   "metadata": {},
   "outputs": [
    {
     "data": {
      "text/plain": [
       "(66240, 122)"
      ]
     },
     "execution_count": 7,
     "metadata": {},
     "output_type": "execute_result"
    }
   ],
   "source": [
    "df_jval = df_jval_all.iloc[:,used_jvals]\n",
    "df_jval.shape"
   ]
  },
  {
   "cell_type": "code",
   "execution_count": 8,
   "metadata": {},
   "outputs": [
    {
     "data": {
      "text/plain": [
       "62/ALD2/ActAlx      0.000000e+00\n",
       "100/SO4/H2SO4       0.000000e+00\n",
       "1/O2/O2             1.290387e-19\n",
       "46/HCFC22/CHF2Cl    1.404748e-18\n",
       "41/CFC115/F115      2.430385e-18\n",
       "dtype: float64"
      ]
     },
     "execution_count": 8,
     "metadata": {},
     "output_type": "execute_result"
    }
   ],
   "source": [
    "df_jval.max().nsmallest(5)"
   ]
  },
  {
   "cell_type": "code",
   "execution_count": 9,
   "metadata": {},
   "outputs": [
    {
     "name": "stderr",
     "output_type": "stream",
     "text": [
      "/Users/zhuangjw/Research/Computing/miniconda3/envs/sci/lib/python3.6/site-packages/pandas/core/frame.py:3697: SettingWithCopyWarning: \n",
      "A value is trying to be set on a copy of a slice from a DataFrame\n",
      "\n",
      "See the caveats in the documentation: http://pandas.pydata.org/pandas-docs/stable/indexing.html#indexing-view-versus-copy\n",
      "  errors=errors)\n"
     ]
    },
    {
     "data": {
      "text/plain": [
       "(66240, 120)"
      ]
     },
     "execution_count": 9,
     "metadata": {},
     "output_type": "execute_result"
    }
   ],
   "source": [
    "df_jval.drop(['62/ALD2/ActAlx', '100/SO4/H2SO4'], axis=1, inplace=True)\n",
    "df_jval.shape"
   ]
  },
  {
   "cell_type": "markdown",
   "metadata": {},
   "source": [
    "# Examine correlation"
   ]
  },
  {
   "cell_type": "code",
   "execution_count": 10,
   "metadata": {},
   "outputs": [
    {
     "name": "stdout",
     "output_type": "stream",
     "text": [
      "CPU times: user 22.3 s, sys: 231 ms, total: 22.5 s\n",
      "Wall time: 22.9 s\n"
     ]
    }
   ],
   "source": [
    "%time df_jval_corr = df_jval.corr()"
   ]
  },
  {
   "cell_type": "code",
   "execution_count": 11,
   "metadata": {},
   "outputs": [
    {
     "data": {
      "image/png": "[encoded data removed]",
      "text/plain": [
       "<Figure size 576x432 with 2 Axes>"
      ]
     },
     "metadata": {},
     "output_type": "display_data"
    }
   ],
   "source": [
    "plt.figure(figsize=[8, 6])\n",
    "sns.heatmap(df_jval_corr, vmin=0, vmax=1, cmap='Reds')\n",
    "plt.tight_layout()\n",
    "plt.savefig('jvals_corr.png', dpi=200)"
   ]
  },
  {
   "cell_type": "code",
   "execution_count": 12,
   "metadata": {},
   "outputs": [
    {
     "data": {
      "image/png": "[encoded data removed]",
      "text/plain": [
       "<Figure size 576x360 with 8 Axes>"
      ]
     },
     "metadata": {},
     "output_type": "display_data"
    }
   ],
   "source": [
    "fig, axes = plt.subplots(2, 2, figsize=[8, 5])\n",
    "ds['PHOTOL'][0,:,:,0].plot(ax=axes[0,0])\n",
    "ds['PHOTOL'][0,:,:,40].plot(ax=axes[0,1])\n",
    "ds['PHOTOL'][0,:,:,10].plot(ax=axes[1,0])\n",
    "ds['PHOTOL'][0,:,:,20].plot(ax=axes[1,1])\n",
    "fig.tight_layout()\n",
    "fig.savefig('jvals_spatial.png', dpi=200)"
   ]
  },
  {
   "cell_type": "markdown",
   "metadata": {},
   "source": [
    "# Dimensionality redutinon with SVD"
   ]
  },
  {
   "cell_type": "code",
   "execution_count": 13,
   "metadata": {},
   "outputs": [],
   "source": [
    "scaler = StandardScaler()"
   ]
  },
  {
   "cell_type": "code",
   "execution_count": 14,
   "metadata": {},
   "outputs": [],
   "source": [
    "jval_normed = scaler.fit_transform(df_jval)"
   ]
  },
  {
   "cell_type": "code",
   "execution_count": 15,
   "metadata": {},
   "outputs": [
    {
     "data": {
      "text/plain": [
       "array([1., 1., 1., 1., 1., 1., 1., 1., 1., 1., 1., 1., 1., 1., 1., 1., 1.,\n",
       "       1., 1., 1., 1., 1., 1., 1., 1., 1., 1., 1., 1., 1., 1., 1., 1., 1.,\n",
       "       1., 1., 1., 1., 1., 1., 1., 1., 1., 1., 1., 1., 1., 1., 1., 1., 1.,\n",
       "       1., 1., 1., 1., 1., 1., 1., 1., 1., 1., 1., 1., 1., 1., 1., 1., 1.,\n",
       "       1., 1., 1., 1., 1., 1., 1., 1., 1., 1., 1., 1., 1., 1., 1., 1., 1.,\n",
       "       1., 1., 1., 1., 1., 1., 1., 1., 1., 1., 1., 1., 1., 1., 1., 1., 1.,\n",
       "       1., 1., 1., 1., 1., 1., 1., 1., 1., 1., 1., 1., 1., 1., 1., 1., 1.,\n",
       "       1.])"
      ]
     },
     "execution_count": 15,
     "metadata": {},
     "output_type": "execute_result"
    }
   ],
   "source": [
    "jval_normed.std(axis=0)"
   ]
  },
  {
   "cell_type": "code",
   "execution_count": 16,
   "metadata": {},
   "outputs": [],
   "source": [
    "pca = PCA(n_components=3)"
   ]
  },
  {
   "cell_type": "code",
   "execution_count": 17,
   "metadata": {},
   "outputs": [
    {
     "data": {
      "text/plain": [
       "PCA(copy=True, iterated_power='auto', n_components=3, random_state=None,\n",
       "  svd_solver='auto', tol=0.0, whiten=False)"
      ]
     },
     "execution_count": 17,
     "metadata": {},
     "output_type": "execute_result"
    }
   ],
   "source": [
    "pca.fit(jval_normed)"
   ]
  },
  {
   "cell_type": "code",
   "execution_count": 18,
   "metadata": {},
   "outputs": [
    {
     "data": {
      "text/plain": [
       "(array([0.82065092, 0.13257118, 0.03919212]),\n",
       " array([0.82065092, 0.95322211, 0.99241423]))"
      ]
     },
     "execution_count": 18,
     "metadata": {},
     "output_type": "execute_result"
    }
   ],
   "source": [
    "pca.explained_variance_ratio_, np.cumsum(pca.explained_variance_ratio_)"
   ]
  },
  {
   "cell_type": "code",
   "execution_count": 19,
   "metadata": {},
   "outputs": [
    {
     "data": {
      "text/plain": [
       "(66240, 3)"
      ]
     },
     "execution_count": 19,
     "metadata": {},
     "output_type": "execute_result"
    }
   ],
   "source": [
    "jval_reduced = pca.transform(jval_normed)\n",
    "jval_reduced.shape"
   ]
  },
  {
   "cell_type": "code",
   "execution_count": 20,
   "metadata": {},
   "outputs": [
    {
     "data": {
      "text/plain": [
       "(66240, 120)"
      ]
     },
     "execution_count": 20,
     "metadata": {},
     "output_type": "execute_result"
    }
   ],
   "source": [
    "jval_recover = scaler.inverse_transform(pca.inverse_transform(jval_reduced))\n",
    "jval_recover.shape"
   ]
  },
  {
   "cell_type": "code",
   "execution_count": 21,
   "metadata": {},
   "outputs": [
    {
     "name": "stdout",
     "output_type": "stream",
     "text": [
      "[0.99763115 0.98383267 0.99688348 0.95595594 0.99669175 0.99703044\n",
      " 0.9981127  0.99827589 0.99905669 0.9801059  0.9801059  0.99154815\n",
      " 0.9990101  0.99838602 0.99330559 0.99330559 0.99904324 0.99834423\n",
      " 0.9985188  0.99938413 0.9850509  0.99884698 0.99934222 0.99962063\n",
      " 0.99690257 0.99827338 0.99899686 0.99899686 0.99469646 0.99858959\n",
      " 0.99525011 0.95742292 0.99973443 0.99992259 0.99866143 0.99918509\n",
      " 0.99935089 0.99945723 0.99854033 0.99893249 0.99997895 0.99951868\n",
      " 0.99941539 0.99968489 0.99915185 0.99935165 0.7321459  0.99497099\n",
      " 0.98097895 0.99346776 0.98035217 0.99182953 0.99468543 0.98010696\n",
      " 0.97995832 0.97995832 0.97995832 0.99862903 0.99762624 0.96837946\n",
      " 0.99709962 0.99135855 0.99255316 0.99755945 0.99764012 0.99803693\n",
      " 0.9950054  0.92867667 0.99827589 0.99827589 0.99827589 0.99827589\n",
      " 0.99827589 0.99827589 0.99827589 0.99827589 0.99827589 0.99827589\n",
      " 0.99827589 0.99827589 0.99827589 0.99827589 0.99827589 0.99827589\n",
      " 0.9968254  0.99728434 0.99811004 0.99811004 0.99723988 0.99827589\n",
      " 0.99773229 0.99827589 0.98166788 0.99763161 0.99763161 0.9981127\n",
      " 0.99468543 0.99687316 0.99862903 0.99862903 0.99862903 0.99811004\n",
      " 0.99811004 0.99811004 0.97834229 0.99746895 0.9919986  0.9781613\n",
      " 0.99263656 0.99881233 0.99913956 0.99983119 0.99819133 0.99784217\n",
      " 0.99819811 0.99836305 0.99983119 0.99886307 0.97894412 0.98118062]\n"
     ]
    }
   ],
   "source": [
    "jval_r2 = r2_score(jval_recover, df_jval, multioutput='raw_values')\n",
    "print(jval_r2)"
   ]
  },
  {
   "cell_type": "code",
   "execution_count": 22,
   "metadata": {},
   "outputs": [
    {
     "data": {
      "text/plain": [
       "50/CH3Br/CH3Br      0.732146\n",
       "77/ACET/Acet-b      0.928677\n",
       "6/NO/NO             0.955956\n",
       "34/OCS/OCS          0.957423\n",
       "69/MEK/MEKeto       0.968379\n",
       "118/OIO/OIO         0.978161\n",
       "115/I2/I2           0.978342\n",
       "129/IBr/IBr         0.978944\n",
       "63/MVK/MeVK         0.979958\n",
       "64/MVK/MeVK         0.979958\n",
       "65/MVK/MeVK         0.979958\n",
       "13/NO3/NO3          0.980106\n",
       "12/NO3/NO3          0.980106\n",
       "61/ALD2/ActAld      0.980107\n",
       "55/CH2Br2/CH2Br2    0.980352\n",
       "53/H1301/H1301      0.980979\n",
       "130/ICl/ICl         0.981181\n",
       "102/ClOO/ClOO       0.981668\n",
       "2/O3/O3             0.983833\n",
       "23/Br2/Br2          0.985051\n",
       "dtype: float64"
      ]
     },
     "execution_count": 22,
     "metadata": {},
     "output_type": "execute_result"
    }
   ],
   "source": [
    "df_r2 = pd.Series(jval_r2, index=df_jval.columns)\n",
    "df_r2.nsmallest(20)"
   ]
  },
  {
   "cell_type": "code",
   "execution_count": 23,
   "metadata": {},
   "outputs": [
    {
     "data": {
      "text/plain": [
       "44/CH3CCl3/MeCCl3    0.999979\n",
       "37/CFC11/CFCl3       0.999923\n",
       "122/I2O2/I2O2        0.999831\n",
       "127/I2O4/I2O2        0.999831\n",
       "36/N2O/N2O           0.999734\n",
       "47/HCFC123/F123      0.999685\n",
       "26/Cl2O2/Cl2O2       0.999621\n",
       "45/CH2Cl2/CH2Cl2     0.999519\n",
       "41/CFC115/F115       0.999457\n",
       "46/HCFC22/CHF2Cl     0.999415\n",
       "22/Cl2/Cl2           0.999384\n",
       "49/HCFC142b/F142b    0.999352\n",
       "40/CFC114/F114       0.999351\n",
       "25/OClO/OClO         0.999342\n",
       "39/CFC113/F113       0.999185\n",
       "48/HCFC141b/F141b    0.999152\n",
       "121/IONO2/IONO2      0.999140\n",
       "11/NO2/NO2           0.999057\n",
       "19/ClNO3/ClNO3a      0.999043\n",
       "15/HNO2/HNO2         0.999010\n",
       "dtype: float64"
      ]
     },
     "execution_count": 23,
     "metadata": {},
     "output_type": "execute_result"
    }
   ],
   "source": [
    "df_r2.nlargest(20)"
   ]
  },
  {
   "cell_type": "code",
   "execution_count": 24,
   "metadata": {},
   "outputs": [
    {
     "data": {
      "text/html": [
       "<div>\n",
       "<style scoped>\n",
       "    .dataframe tbody tr th:only-of-type {\n",
       "        vertical-align: middle;\n",
       "    }\n",
       "\n",
       "    .dataframe tbody tr th {\n",
       "        vertical-align: top;\n",
       "    }\n",
       "\n",
       "    .dataframe thead th {\n",
       "        text-align: right;\n",
       "    }\n",
       "</style>\n",
       "<table border=\"1\" class=\"dataframe\">\n",
       "  <thead>\n",
       "    <tr style=\"text-align: right;\">\n",
       "      <th></th>\n",
       "      <th>1/O2/O2</th>\n",
       "      <th>2/O3/O3</th>\n",
       "      <th>3/O3/O3(1D)</th>\n",
       "      <th>6/NO/NO</th>\n",
       "      <th>7/CH2O/H2COa</th>\n",
       "      <th>8/CH2O/H2COb</th>\n",
       "      <th>9/H2O2/H2O2</th>\n",
       "      <th>10/MP/CH3OOH</th>\n",
       "      <th>11/NO2/NO2</th>\n",
       "      <th>12/NO3/NO3</th>\n",
       "      <th>...</th>\n",
       "      <th>121/IONO2/IONO2</th>\n",
       "      <th>122/I2O2/I2O2</th>\n",
       "      <th>123/CH3I/CH3I</th>\n",
       "      <th>124/CH2I2/CH2I2</th>\n",
       "      <th>125/CH2ICl/CH2ICl</th>\n",
       "      <th>126/CH2IBr/CH2IBr</th>\n",
       "      <th>127/I2O4/I2O2</th>\n",
       "      <th>128/I2O3/I2O3</th>\n",
       "      <th>129/IBr/IBr</th>\n",
       "      <th>130/ICl/ICl</th>\n",
       "    </tr>\n",
       "  </thead>\n",
       "  <tbody>\n",
       "    <tr>\n",
       "      <th>0</th>\n",
       "      <td>9.862665e-25</td>\n",
       "      <td>0.000006</td>\n",
       "      <td>1.331644e-07</td>\n",
       "      <td>3.097972e-22</td>\n",
       "      <td>-2.027639e-07</td>\n",
       "      <td>-2.493006e-07</td>\n",
       "      <td>-2.260023e-08</td>\n",
       "      <td>-2.257859e-08</td>\n",
       "      <td>0.000002</td>\n",
       "      <td>0.00269</td>\n",
       "      <td>...</td>\n",
       "      <td>-0.000016</td>\n",
       "      <td>0.000041</td>\n",
       "      <td>-4.419993e-09</td>\n",
       "      <td>-0.000036</td>\n",
       "      <td>-2.290306e-07</td>\n",
       "      <td>-0.000002</td>\n",
       "      <td>0.000041</td>\n",
       "      <td>0.000131</td>\n",
       "      <td>0.001313</td>\n",
       "      <td>0.000397</td>\n",
       "    </tr>\n",
       "    <tr>\n",
       "      <th>1</th>\n",
       "      <td>9.862665e-25</td>\n",
       "      <td>0.000006</td>\n",
       "      <td>1.331644e-07</td>\n",
       "      <td>3.097972e-22</td>\n",
       "      <td>-2.027639e-07</td>\n",
       "      <td>-2.493006e-07</td>\n",
       "      <td>-2.260023e-08</td>\n",
       "      <td>-2.257859e-08</td>\n",
       "      <td>0.000002</td>\n",
       "      <td>0.00269</td>\n",
       "      <td>...</td>\n",
       "      <td>-0.000016</td>\n",
       "      <td>0.000041</td>\n",
       "      <td>-4.419993e-09</td>\n",
       "      <td>-0.000036</td>\n",
       "      <td>-2.290306e-07</td>\n",
       "      <td>-0.000002</td>\n",
       "      <td>0.000041</td>\n",
       "      <td>0.000131</td>\n",
       "      <td>0.001313</td>\n",
       "      <td>0.000397</td>\n",
       "    </tr>\n",
       "    <tr>\n",
       "      <th>2</th>\n",
       "      <td>9.862665e-25</td>\n",
       "      <td>0.000006</td>\n",
       "      <td>1.331644e-07</td>\n",
       "      <td>3.097972e-22</td>\n",
       "      <td>-2.027639e-07</td>\n",
       "      <td>-2.493006e-07</td>\n",
       "      <td>-2.260023e-08</td>\n",
       "      <td>-2.257859e-08</td>\n",
       "      <td>0.000002</td>\n",
       "      <td>0.00269</td>\n",
       "      <td>...</td>\n",
       "      <td>-0.000016</td>\n",
       "      <td>0.000041</td>\n",
       "      <td>-4.419993e-09</td>\n",
       "      <td>-0.000036</td>\n",
       "      <td>-2.290306e-07</td>\n",
       "      <td>-0.000002</td>\n",
       "      <td>0.000041</td>\n",
       "      <td>0.000131</td>\n",
       "      <td>0.001313</td>\n",
       "      <td>0.000397</td>\n",
       "    </tr>\n",
       "    <tr>\n",
       "      <th>3</th>\n",
       "      <td>9.862665e-25</td>\n",
       "      <td>0.000006</td>\n",
       "      <td>1.331644e-07</td>\n",
       "      <td>3.097972e-22</td>\n",
       "      <td>-2.027639e-07</td>\n",
       "      <td>-2.493006e-07</td>\n",
       "      <td>-2.260023e-08</td>\n",
       "      <td>-2.257859e-08</td>\n",
       "      <td>0.000002</td>\n",
       "      <td>0.00269</td>\n",
       "      <td>...</td>\n",
       "      <td>-0.000016</td>\n",
       "      <td>0.000041</td>\n",
       "      <td>-4.419993e-09</td>\n",
       "      <td>-0.000036</td>\n",
       "      <td>-2.290306e-07</td>\n",
       "      <td>-0.000002</td>\n",
       "      <td>0.000041</td>\n",
       "      <td>0.000131</td>\n",
       "      <td>0.001313</td>\n",
       "      <td>0.000397</td>\n",
       "    </tr>\n",
       "    <tr>\n",
       "      <th>4</th>\n",
       "      <td>9.862665e-25</td>\n",
       "      <td>0.000006</td>\n",
       "      <td>1.331644e-07</td>\n",
       "      <td>3.097972e-22</td>\n",
       "      <td>-2.027639e-07</td>\n",
       "      <td>-2.493006e-07</td>\n",
       "      <td>-2.260023e-08</td>\n",
       "      <td>-2.257859e-08</td>\n",
       "      <td>0.000002</td>\n",
       "      <td>0.00269</td>\n",
       "      <td>...</td>\n",
       "      <td>-0.000016</td>\n",
       "      <td>0.000041</td>\n",
       "      <td>-4.419993e-09</td>\n",
       "      <td>-0.000036</td>\n",
       "      <td>-2.290306e-07</td>\n",
       "      <td>-0.000002</td>\n",
       "      <td>0.000041</td>\n",
       "      <td>0.000131</td>\n",
       "      <td>0.001313</td>\n",
       "      <td>0.000397</td>\n",
       "    </tr>\n",
       "  </tbody>\n",
       "</table>\n",
       "<p>5 rows × 120 columns</p>\n",
       "</div>"
      ],
      "text/plain": [
       "        1/O2/O2   2/O3/O3   3/O3/O3(1D)       6/NO/NO  7/CH2O/H2COa  \\\n",
       "0  9.862665e-25  0.000006  1.331644e-07  3.097972e-22 -2.027639e-07   \n",
       "1  9.862665e-25  0.000006  1.331644e-07  3.097972e-22 -2.027639e-07   \n",
       "2  9.862665e-25  0.000006  1.331644e-07  3.097972e-22 -2.027639e-07   \n",
       "3  9.862665e-25  0.000006  1.331644e-07  3.097972e-22 -2.027639e-07   \n",
       "4  9.862665e-25  0.000006  1.331644e-07  3.097972e-22 -2.027639e-07   \n",
       "\n",
       "   8/CH2O/H2COb   9/H2O2/H2O2  10/MP/CH3OOH  11/NO2/NO2  12/NO3/NO3  \\\n",
       "0 -2.493006e-07 -2.260023e-08 -2.257859e-08    0.000002     0.00269   \n",
       "1 -2.493006e-07 -2.260023e-08 -2.257859e-08    0.000002     0.00269   \n",
       "2 -2.493006e-07 -2.260023e-08 -2.257859e-08    0.000002     0.00269   \n",
       "3 -2.493006e-07 -2.260023e-08 -2.257859e-08    0.000002     0.00269   \n",
       "4 -2.493006e-07 -2.260023e-08 -2.257859e-08    0.000002     0.00269   \n",
       "\n",
       "      ...       121/IONO2/IONO2  122/I2O2/I2O2  123/CH3I/CH3I  \\\n",
       "0     ...             -0.000016       0.000041  -4.419993e-09   \n",
       "1     ...             -0.000016       0.000041  -4.419993e-09   \n",
       "2     ...             -0.000016       0.000041  -4.419993e-09   \n",
       "3     ...             -0.000016       0.000041  -4.419993e-09   \n",
       "4     ...             -0.000016       0.000041  -4.419993e-09   \n",
       "\n",
       "   124/CH2I2/CH2I2  125/CH2ICl/CH2ICl  126/CH2IBr/CH2IBr  127/I2O4/I2O2  \\\n",
       "0        -0.000036      -2.290306e-07          -0.000002       0.000041   \n",
       "1        -0.000036      -2.290306e-07          -0.000002       0.000041   \n",
       "2        -0.000036      -2.290306e-07          -0.000002       0.000041   \n",
       "3        -0.000036      -2.290306e-07          -0.000002       0.000041   \n",
       "4        -0.000036      -2.290306e-07          -0.000002       0.000041   \n",
       "\n",
       "   128/I2O3/I2O3  129/IBr/IBr  130/ICl/ICl  \n",
       "0       0.000131     0.001313     0.000397  \n",
       "1       0.000131     0.001313     0.000397  \n",
       "2       0.000131     0.001313     0.000397  \n",
       "3       0.000131     0.001313     0.000397  \n",
       "4       0.000131     0.001313     0.000397  \n",
       "\n",
       "[5 rows x 120 columns]"
      ]
     },
     "execution_count": 24,
     "metadata": {},
     "output_type": "execute_result"
    }
   ],
   "source": [
    "df_recover = pd.DataFrame(jval_recover, columns=df_jval.columns)\n",
    "df_recover.head() # some slightly negative values"
   ]
  },
  {
   "cell_type": "code",
   "execution_count": 42,
   "metadata": {},
   "outputs": [],
   "source": [
    "def compare_jval(var):\n",
    "    plt.scatter(df_jval[var], df_recover[var], alpha=0.05, s=2)\n",
    "    plt.title(var)\n",
    "    plt.xlabel('original value')\n",
    "    plt.ylabel('approximate value')"
   ]
  },
  {
   "cell_type": "code",
   "execution_count": 53,
   "metadata": {},
   "outputs": [
    {
     "data": {
      "image/png": "[encoded data removed]",
      "text/plain": [
       "<Figure size 432x360 with 2 Axes>"
      ]
     },
     "metadata": {},
     "output_type": "display_data"
    }
   ],
   "source": [
    "plt.figure(figsize=[6, 5])\n",
    "plt.subplot(221); compare_jval('11/NO2/NO2')\n",
    "plt.subplot(222); compare_jval('23/Br2/Br2')\n",
    "plt.tight_layout()\n",
    "plt.savefig('approx_jvals.png', dpi=200)"
   ]
  },
  {
   "cell_type": "markdown",
   "metadata": {},
   "source": [
    "# Compare integration results"
   ]
  },
  {
   "cell_type": "markdown",
   "metadata": {},
   "source": [
    "## Reference solution"
   ]
  },
  {
   "cell_type": "code",
   "execution_count": 26,
   "metadata": {},
   "outputs": [
    {
     "data": {
      "text/plain": [
       "((66240, 240), (66240, 4), (66240, 130))"
      ]
     },
     "execution_count": 26,
     "metadata": {},
     "output_type": "execute_result"
    }
   ],
   "source": [
    "ref_c_before = ds_sub['C_before'].values\n",
    "ref_phy = ds_sub['PHY'].values\n",
    "ref_photol = ds_sub['PHOTOL'].values\n",
    "\n",
    "ref_c_before.shape, ref_phy.shape, ref_photol.shape"
   ]
  },
  {
   "cell_type": "code",
   "execution_count": 27,
   "metadata": {},
   "outputs": [
    {
     "name": "stdout",
     "output_type": "stream",
     "text": [
      "CPU times: user 53.5 s, sys: 625 ms, total: 54.2 s\n",
      "Wall time: 54.5 s\n"
     ]
    }
   ],
   "source": [
    "%%time\n",
    "ref_c_after = kpp4py.onestep(ref_c_before.T, ref_phy.T, ref_photol.T).T"
   ]
  },
  {
   "cell_type": "code",
   "execution_count": 28,
   "metadata": {},
   "outputs": [
    {
     "data": {
      "text/plain": [
       "(66240, 240)"
      ]
     },
     "execution_count": 28,
     "metadata": {},
     "output_type": "execute_result"
    }
   ],
   "source": [
    "ref_c_after.shape"
   ]
  },
  {
   "cell_type": "markdown",
   "metadata": {},
   "source": [
    "## Use re-constructed Jvals"
   ]
  },
  {
   "cell_type": "code",
   "execution_count": 29,
   "metadata": {},
   "outputs": [
    {
     "data": {
      "text/plain": [
       "(66240, 130)"
      ]
     },
     "execution_count": 29,
     "metadata": {},
     "output_type": "execute_result"
    }
   ],
   "source": [
    "df_recover_full = df_jval_all.copy()\n",
    "df_recover_full[df_recover.columns] = df_recover # overwrite relavant jvals\n",
    "\n",
    "approx_photol = df_recover_full.values\n",
    "approx_photol.shape"
   ]
  },
  {
   "cell_type": "code",
   "execution_count": 30,
   "metadata": {},
   "outputs": [
    {
     "name": "stdout",
     "output_type": "stream",
     "text": [
      "CPU times: user 1min 2s, sys: 422 ms, total: 1min 3s\n",
      "Wall time: 1min 3s\n"
     ]
    }
   ],
   "source": [
    "%%time\n",
    "approx_c_after = kpp4py.onestep(ref_c_before.T, ref_phy.T, approx_photol.T).T"
   ]
  },
  {
   "cell_type": "code",
   "execution_count": 31,
   "metadata": {},
   "outputs": [
    {
     "data": {
      "text/plain": [
       "(66240, 240)"
      ]
     },
     "execution_count": 31,
     "metadata": {},
     "output_type": "execute_result"
    }
   ],
   "source": [
    "approx_c_after.shape"
   ]
  },
  {
   "cell_type": "code",
   "execution_count": 32,
   "metadata": {},
   "outputs": [],
   "source": [
    "approx_r2 = r2_score(ref_c_after, approx_c_after, multioutput='raw_values')\n",
    "df_r2 = pd.Series(approx_r2, index=spec_names)"
   ]
  },
  {
   "cell_type": "code",
   "execution_count": 33,
   "metadata": {},
   "outputs": [
    {
     "data": {
      "text/plain": [
       "NO     0.999174\n",
       "NO2    0.995543\n",
       "O3     0.999998\n",
       "OH     0.999222\n",
       "dtype: float64"
      ]
     },
     "execution_count": 33,
     "metadata": {},
     "output_type": "execute_result"
    }
   ],
   "source": [
    "df_r2[['NO', 'NO2', 'O3', 'OH']]"
   ]
  },
  {
   "cell_type": "code",
   "execution_count": 34,
   "metadata": {},
   "outputs": [
    {
     "data": {
      "text/plain": [
       "Cl2O2      -21378.397672\n",
       "I2             -0.017595\n",
       "I2O4            0.052268\n",
       "IBr             0.095350\n",
       "NO3             0.214534\n",
       "OIO             0.230227\n",
       "I2O2            0.342551\n",
       "ISNOOA          0.496665\n",
       "ClO             0.556616\n",
       "Br2             0.662458\n",
       "ICl             0.713545\n",
       "ClOO            0.762912\n",
       "BrO             0.808324\n",
       "MAN2            0.874906\n",
       "N2O5            0.879765\n",
       "N               0.907038\n",
       "MAOPO2          0.911947\n",
       "LISOPNO3        0.917435\n",
       "PRN1            0.930021\n",
       "ISNOOB          0.941644\n",
       "INO2            0.950755\n",
       "MACRNO2         0.951137\n",
       "IO              0.969089\n",
       "NMAO3           0.975857\n",
       "IONO2           0.976599\n",
       "BrCl            0.981179\n",
       "OLND            0.982959\n",
       "BRO2            0.984053\n",
       "OLNN            0.985069\n",
       "OClO            0.985453\n",
       "dtype: float64"
      ]
     },
     "execution_count": 34,
     "metadata": {},
     "output_type": "execute_result"
    }
   ],
   "source": [
    "df_r2.nsmallest(30)"
   ]
  },
  {
   "cell_type": "code",
   "execution_count": 35,
   "metadata": {},
   "outputs": [],
   "source": [
    "def plot_compare(var):\n",
    "    idx = spec_names.index(var)\n",
    "    plt.scatter(ref_c_after[:,idx], approx_c_after[:,idx], alpha=0.4, s=2)\n",
    "    plt.title(var)\n",
    "    plt.xlabel('original')\n",
    "    plt.ylabel('use approximated Jvals')"
   ]
  },
  {
   "cell_type": "code",
   "execution_count": 51,
   "metadata": {},
   "outputs": [
    {
     "data": {
      "image/png": "[encoded data removed]",
      "text/plain": [
       "<Figure size 576x432 with 4 Axes>"
      ]
     },
     "metadata": {},
     "output_type": "display_data"
    }
   ],
   "source": [
    "plt.figure(figsize=[8, 6])\n",
    "plt.subplot(221); plot_compare('NO')\n",
    "plt.subplot(222); plot_compare('NO2')\n",
    "plt.subplot(223); plot_compare('NO3')\n",
    "plt.subplot(224); plot_compare('IBr')\n",
    "plt.tight_layout()\n",
    "plt.savefig('results_by_approx_jvals.png', dpi=200)"
   ]
  }
 ],
 "metadata": {
  "kernelspec": {
   "display_name": "Python 3",
   "language": "python",
   "name": "python3"
  },
  "language_info": {
   "codemirror_mode": {
    "name": "ipython",
    "version": 3
   },
   "file_extension": ".py",
   "mimetype": "text/x-python",
   "name": "python",
   "nbconvert_exporter": "python",
   "pygments_lexer": "ipython3",
   "version": "3.6.6"
  }
 },
 "nbformat": 4,
 "nbformat_minor": 2
}
