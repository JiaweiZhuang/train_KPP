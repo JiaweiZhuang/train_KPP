{
 "cells": [
  {
   "cell_type": "code",
   "execution_count": 1,
   "metadata": {},
   "outputs": [],
   "source": [
    "%matplotlib inline\n",
    "import matplotlib.pyplot as plt\n",
    "import numpy as np\n",
    "import pandas as pd\n",
    "import xarray as xr\n",
    "import seaborn as sns\n",
    "\n",
    "from ipywidgets import interact, SelectionSlider, IntSlider\n",
    "\n",
    "import metadata_util"
   ]
  },
  {
   "cell_type": "code",
   "execution_count": 2,
   "metadata": {},
   "outputs": [],
   "source": [
    "import sys\n",
    "sys.path.append(\"../../GEOSChem/KPP4GC/GC_12_Standard/\") # dirty fix to allow importing\n",
    "import kpp4py"
   ]
  },
  {
   "cell_type": "code",
   "execution_count": 3,
   "metadata": {},
   "outputs": [
    {
     "data": {
      "text/plain": [
       "<xarray.Dataset>\n",
       "Dimensions:   (nphotol: 130, nphy: 4, nreact: 725, nspec: 240, sample: 66240)\n",
       "Coordinates:\n",
       "  * sample    (sample) MultiIndex\n",
       "  - lev       (sample) int64 0 0 0 0 0 0 0 0 0 0 0 0 0 0 0 0 0 0 0 0 0 0 0 0 ...\n",
       "  - lat       (sample) int64 0 0 0 0 0 0 0 0 0 0 0 0 0 0 0 0 0 0 0 0 0 0 0 0 ...\n",
       "  - lon       (sample) int64 0 1 2 3 4 5 6 7 8 9 10 11 12 13 14 15 16 17 18 ...\n",
       "Dimensions without coordinates: nphotol, nphy, nreact, nspec\n",
       "Data variables:\n",
       "    C_before  (sample, nspec) float64 5.722e+03 1.662e+06 1.446e+05 ...\n",
       "    C_after   (sample, nspec) float64 5.722e+03 1.662e+06 1.446e+05 ...\n",
       "    PHOTOL    (sample, nphotol) float64 0.0 0.0 0.0 0.0 0.0 0.0 0.0 0.0 0.0 ...\n",
       "    PHY       (sample, nphy) float64 203.3 703.9 2.508e+19 1.243e+14 203.3 ...\n",
       "    RCONST    (sample, nreact) float64 1.872e-15 1.668e-14 8.976e-16 ..."
      ]
     },
     "execution_count": 3,
     "metadata": {},
     "output_type": "execute_result"
    }
   ],
   "source": [
    "ds = xr.open_dataset('./KPP_fields_100.nc')\n",
    "\n",
    "ds_sub = ds.isel(lev=slice(0, 20)).stack(sample=('lev', 'lat', 'lon')).transpose()\n",
    "ds_sub"
   ]
  },
  {
   "cell_type": "code",
   "execution_count": 4,
   "metadata": {},
   "outputs": [
    {
     "data": {
      "text/plain": [
       "<xarray.Dataset>\n",
       "Dimensions:   (nphotol: 130, nphy: 4, nreact: 725, nspec: 240)\n",
       "Coordinates:\n",
       "    sample    object (13, 41, 36)\n",
       "Dimensions without coordinates: nphotol, nphy, nreact, nspec\n",
       "Data variables:\n",
       "    C_before  (nspec) float64 3.77e-14 9.299e-09 4.61e-10 2.536e+06 0.0 ...\n",
       "    C_after   (nspec) float64 -7.709e-18 8.239e-09 2.925e-10 2.536e+06 ...\n",
       "    PHOTOL    (nphotol) float64 7.148e-27 0.0003879 1.837e-06 0.0 0.0 ...\n",
       "    PHY       (nphy) float64 269.4 796.6 2.134e+19 9.644e+16\n",
       "    RCONST    (nreact) float64 1.145e-14 5.187e-14 1.622e-15 1.346e-17 ..."
      ]
     },
     "execution_count": 4,
     "metadata": {},
     "output_type": "execute_result"
    }
   ],
   "source": [
    "random_idx = np.random.randint(ds_sub.dims['sample'])\n",
    "ds_one = ds_sub.isel(sample=random_idx)\n",
    "ds_one "
   ]
  },
  {
   "cell_type": "code",
   "execution_count": 5,
   "metadata": {},
   "outputs": [
    {
     "data": {
      "text/plain": [
       "((240,), (4,), (130,))"
      ]
     },
     "execution_count": 5,
     "metadata": {},
     "output_type": "execute_result"
    }
   ],
   "source": [
    "ref_c_before = ds_one['C_before'].values\n",
    "ref_phy = ds_one['PHY'].values\n",
    "ref_photol = ds_one['PHOTOL'].values\n",
    "\n",
    "ref_c_before.shape, ref_phy.shape, ref_photol.shape"
   ]
  },
  {
   "cell_type": "code",
   "execution_count": 6,
   "metadata": {},
   "outputs": [
    {
     "data": {
      "text/plain": [
       "(374,)"
      ]
     },
     "execution_count": 6,
     "metadata": {},
     "output_type": "execute_result"
    }
   ],
   "source": [
    "ref_features = np.r_[ref_c_before, ref_phy, ref_photol]\n",
    "ref_features.shape"
   ]
  },
  {
   "cell_type": "code",
   "execution_count": 7,
   "metadata": {},
   "outputs": [
    {
     "data": {
      "text/plain": [
       "(240, 1)"
      ]
     },
     "execution_count": 7,
     "metadata": {},
     "output_type": "execute_result"
    }
   ],
   "source": [
    "ref_c_after = kpp4py.onestep(ref_c_before, ref_phy, ref_photol)\n",
    "ref_c_after.shape"
   ]
  },
  {
   "cell_type": "code",
   "execution_count": 8,
   "metadata": {},
   "outputs": [
    {
     "data": {
      "text/plain": [
       "374"
      ]
     },
     "execution_count": 8,
     "metadata": {},
     "output_type": "execute_result"
    }
   ],
   "source": [
    "n_c = ref_c_before.shape[0]\n",
    "n_phy = ref_phy.shape[0]\n",
    "n_jv = ref_photol.shape[0]\n",
    "\n",
    "n_features = n_c + n_phy + n_jv\n",
    "n_features"
   ]
  },
  {
   "cell_type": "code",
   "execution_count": 9,
   "metadata": {},
   "outputs": [],
   "source": [
    "dr = 0.2 # perturb ratio\n",
    "\n",
    "perturb_features = np.empty([n_features, n_features])\n",
    "\n",
    "perturb_features[:] = ref_features\n",
    "for i in range(n_features):\n",
    "    perturb_features[i, i] *= (1.0+dr)"
   ]
  },
  {
   "cell_type": "code",
   "execution_count": 10,
   "metadata": {},
   "outputs": [
    {
     "name": "stdout",
     "output_type": "stream",
     "text": [
      "(240, 374)\n",
      "CPU times: user 320 ms, sys: 3.28 ms, total: 323 ms\n",
      "Wall time: 322 ms\n"
     ]
    }
   ],
   "source": [
    "%%time\n",
    "perturb_c_after = kpp4py.onestep(perturb_features[:,0:n_c].T, \n",
    "                                 perturb_features[:,n_c:n_c+n_phy].T, \n",
    "                                 perturb_features[:,n_c+n_phy:].T)\n",
    "print(perturb_c_after.shape)"
   ]
  },
  {
   "cell_type": "code",
   "execution_count": 11,
   "metadata": {},
   "outputs": [
    {
     "name": "stderr",
     "output_type": "stream",
     "text": [
      "/Users/zhuangjw/Research/Computing/miniconda3/envs/sci/lib/python3.6/site-packages/ipykernel_launcher.py:1: RuntimeWarning: divide by zero encountered in true_divide\n",
      "  \"\"\"Entry point for launching an IPython kernel.\n",
      "/Users/zhuangjw/Research/Computing/miniconda3/envs/sci/lib/python3.6/site-packages/ipykernel_launcher.py:1: RuntimeWarning: invalid value encountered in true_divide\n",
      "  \"\"\"Entry point for launching an IPython kernel.\n"
     ]
    },
    {
     "data": {
      "text/plain": [
       "(240, 374)"
      ]
     },
     "execution_count": 11,
     "metadata": {},
     "output_type": "execute_result"
    }
   ],
   "source": [
    "A = (perturb_c_after/ref_c_after - 1)/dr # sensitivity matrix (relative change)\n",
    "A.shape"
   ]
  },
  {
   "cell_type": "code",
   "execution_count": 12,
   "metadata": {},
   "outputs": [
    {
     "data": {
      "text/plain": [
       "Text(0.5,1,'sensitivity matrix')"
      ]
     },
     "execution_count": 12,
     "metadata": {},
     "output_type": "execute_result"
    },
    {
     "data": {
      "image/png": "[encoded data removed]",
      "text/plain": [
       "<Figure size 576x432 with 2 Axes>"
      ]
     },
     "metadata": {},
     "output_type": "display_data"
    }
   ],
   "source": [
    "plt.figure(figsize=[8, 6])\n",
    "plt.pcolormesh(A, cmap='bwr', vmin=-0.1, vmax=0.1)\n",
    "plt.colorbar()\n",
    "plt.ylabel('output')\n",
    "plt.xlabel('input')\n",
    "plt.title('sensitivity matrix')"
   ]
  },
  {
   "cell_type": "code",
   "execution_count": 13,
   "metadata": {},
   "outputs": [
    {
     "name": "stderr",
     "output_type": "stream",
     "text": [
      "/Users/zhuangjw/Research/Computing/miniconda3/envs/sci/lib/python3.6/site-packages/ipykernel_launcher.py:1: RuntimeWarning: invalid value encountered in greater\n",
      "  \"\"\"Entry point for launching an IPython kernel.\n"
     ]
    },
    {
     "data": {
      "text/plain": [
       "array([  1,   1,   1,   1,   0,   1,   1,   1,   1,   1,   1,   1,   0,\n",
       "         0,   1,   1,   1,   1,   1,   1,   1,   1,   0,   0,   1,   1,\n",
       "         1,   1,   1,   1,   1,   1,   1,   1,   1,   1,   0,   1,   1,\n",
       "         0,   1,   2,   2,   1,   1,   1,   0,   2,   2,   2,   0,   1,\n",
       "         1,   1,   1,   1,   1,   1,   1,   1,   0,   1,   0,   0,   2,\n",
       "         2,   1,   0,   1,   0,   1,   1,   1,   1,   3,   0,   2,   0,\n",
       "         0,   1,   2,   1,   1,   2,   1,   1,   2,   2,   2,   2,   2,\n",
       "         1,  11,   1,   0,   1,   1,   1,   2,   1,   2,   2,   1,   2,\n",
       "         1,   2,   2,   0,   4,   0,  23,   1,   0,   1,   3,   0,   1,\n",
       "         2,   1,   1,   1,   1,   3,   5,   1,   3,   1,   4,   2,   1,\n",
       "         1,   1,   2,   5,   4,   2,   4,  13,   0,   0,   2,   2,   0,\n",
       "        19,   0,   1,   1,   1,   1,   2,  57,   0,   0,   0,   0,   0,\n",
       "         0,   1,   1,   0,   0,   1,   0,   0,   1,   0,   0,   0,   0,\n",
       "         1,   0,   0,   0,   9,   0,  27,   0,   3,   0,   0,   1,   0,\n",
       "         0,  15,   0,  12,   0,   0,   0,   1,   1,   1,   0,   1,   0,\n",
       "        11,   0,   5,  11,   1,   2,   3,   0,   0,   0,   0,   2,   1,\n",
       "         0,   9,   5,   2,   2,  21,   5,   2,   4,   0,   1,  62,   1,\n",
       "         1,  27,   1,   9,   0,   2,   1,   1,  54,  85,   1,   2,   1,\n",
       "        59,   3,   3,  37,   7,   1, 120,   0,  56,   3,   0,   3,  53,\n",
       "         0,   0,   1,  13,   0,  48,   3,  38,  10,   7,   0,   1,   0,\n",
       "         0,   0,   9,   0,   1,   1,   2,  11,   2,   0,   1,   4,  12,\n",
       "         0,   1,  12,   1,   0,   0,   0,   0,   0,   0,   0,   0,   0,\n",
       "         0,   0,   0,   0,   0,   0,   0,   0,   0,   0,   0,   0,   0,\n",
       "         0,   0,   0,   0,   0,   0,   0,   0,   0,   0,   0,   0,   0,\n",
       "         0,   0,   1,   0,   0,   0,   0,   0,   0,   0,   0,   0,   0,\n",
       "         0,   0,   0,   0,   0,   0,   0,   0,   0,   0,   1,   0,   0,\n",
       "         0,   0,   0,   0,   0,   0,   0,   0,   0,   0,   0,   0,   0,\n",
       "         0,   0,   0,   0,   0,   0,   0,   2,  22,  10,   5,   2,   0,\n",
       "         6,   2,   0,   1,   0,   1,   1,   2,   1,   2])"
      ]
     },
     "execution_count": 13,
     "metadata": {},
     "output_type": "execute_result"
    }
   ],
   "source": [
    "feature_importance = (np.abs(A) > 0.1).sum(axis=0)\n",
    "feature_importance"
   ]
  },
  {
   "cell_type": "code",
   "execution_count": 14,
   "metadata": {},
   "outputs": [],
   "source": [
    "df_importance = pd.Series(feature_importance, \n",
    "                          index = metadata_util.read_spec_names() + \n",
    "                          metadata_util.get_phy_names() + \n",
    "                          metadata_util.read_jval_names())"
   ]
  },
  {
   "cell_type": "code",
   "execution_count": 15,
   "metadata": {},
   "outputs": [
    {
     "data": {
      "text/plain": [
       "TEMP               120\n",
       "O3                  85\n",
       "CO                  62\n",
       "H2O                 59\n",
       "CH4                 57\n",
       "NUMDEN              56\n",
       "NO2                 54\n",
       "3/O3/O3(1D)         53\n",
       "9/H2O2/H2O2         48\n",
       "11/NO2/NO2          38\n",
       "N2                  37\n",
       "H2O2                27\n",
       "NO                  27\n",
       "HOI                 23\n",
       "116/HOI/HOI         22\n",
       "CH2O                21\n",
       "BrNO3               19\n",
       "IO                  15\n",
       "IONO2               13\n",
       "7/CH2O/H2COa        13\n",
       "HOBr                12\n",
       "29/BrNO3/BrNO3      12\n",
       "32/HOBr/HOBr        12\n",
       "CH3Cl               11\n",
       "HOCl                11\n",
       "ClNO3               11\n",
       "24/HOCl/HOCl        11\n",
       "12/NO3/NO3          10\n",
       "117/IO/IO           10\n",
       "ISOP                 9\n",
       "BrO                  9\n",
       "HCl                  9\n",
       "19/ClNO3/ClNO3a      9\n",
       "O2                   7\n",
       "13/NO3/NO3           7\n",
       "121/IONO2/IONO2      6\n",
       "MP                   5\n",
       "MTPA                 5\n",
       "ISN1                 5\n",
       "PRPE                 5\n",
       "dtype: int64"
      ]
     },
     "execution_count": 15,
     "metadata": {},
     "output_type": "execute_result"
    }
   ],
   "source": [
    "df_importance.nlargest(40)"
   ]
  },
  {
   "cell_type": "code",
   "execution_count": 16,
   "metadata": {},
   "outputs": [
    {
     "name": "stderr",
     "output_type": "stream",
     "text": [
      "/Users/zhuangjw/Research/Computing/miniconda3/envs/sci/lib/python3.6/site-packages/ipykernel_launcher.py:1: RuntimeWarning: invalid value encountered in greater\n",
      "  \"\"\"Entry point for launching an IPython kernel.\n"
     ]
    },
    {
     "data": {
      "text/plain": [
       "array([17,  1,  2,  1, 11,  1,  1,  1,  1,  1,  1,  1, 13, 13,  1,  1,  1,\n",
       "        1,  1,  1,  1,  1,  0,  0,  1,  1,  1,  1,  1,  1,  1,  1,  1,  1,\n",
       "        1,  1, 29,  1,  1, 19,  1,  1,  1,  1,  1,  1, 26,  2,  2,  1, 13,\n",
       "        1,  1,  1,  1,  1,  1,  1, 73,  1, 13,  1, 10, 11,  1,  1,  1,  7,\n",
       "        1, 10,  1,  2,  1, 19,  1,  8,  1, 14, 22,  1,  2,  1,  2,  1,  1,\n",
       "       11,  1, 20,  1,  1,  1,  1,  1,  1, 13, 17, 15, 21,  2,  2,  1,  2,\n",
       "        1,  1,  1,  1,  2, 20,  1,  9,  5,  1, 10,  1,  1, 12,  1,  2,  1,\n",
       "        1,  2,  1,  1,  2,  1,  2,  1,  2,  2,  1,  1,  7,  2,  3,  3,  2,\n",
       "        1, 11,  9,  8,  2,  3, 14, 11,  4,  1, 22,  1, 16,  1,  1, 10,  4,\n",
       "       19,  5,  4, 11,  2,  1,  4,  9,  6,  4, 11,  1, 19, 12, 11,  9,  1,\n",
       "       11,  4, 13,  2, 10,  1, 12,  7,  7,  7,  2, 23, 23,  5, 10,  8, 10,\n",
       "       10, 12,  1,  2,  1, 13,  2, 10,  3,  5,  2,  2,  4,  1,  3,  9, 12,\n",
       "       13, 14,  1,  1, 13,  8,  1,  2,  1,  2,  1,  2,  1,  7,  1,  1, 13,\n",
       "        9,  5,  1,  1,  5, 16,  5, 11,  5,  1, 10, 14, 12,  1,  1,  1,  1,\n",
       "        1,  1])"
      ]
     },
     "execution_count": 16,
     "metadata": {},
     "output_type": "execute_result"
    }
   ],
   "source": [
    "input_dependence = (np.abs(A) > 0.1).sum(axis=1)\n",
    "input_dependence"
   ]
  },
  {
   "cell_type": "code",
   "execution_count": 17,
   "metadata": {},
   "outputs": [],
   "source": [
    "df_dependence = pd.Series(input_dependence, \n",
    "                          index = metadata_util.read_spec_names()\n",
    "                         )"
   ]
  },
  {
   "cell_type": "code",
   "execution_count": 18,
   "metadata": {},
   "outputs": [
    {
     "data": {
      "text/plain": [
       "IBr         73\n",
       "I2O4        29\n",
       "I2O3        26\n",
       "OLND        23\n",
       "OLNN        23\n",
       "Cl2O2       22\n",
       "I2          22\n",
       "OClO        21\n",
       "OIO         20\n",
       "BrCl        20\n",
       "I2O2        19\n",
       "ICl         19\n",
       "ISNOOB      19\n",
       "MAN2        19\n",
       "CH2I2       17\n",
       "ClOO        17\n",
       "Cl2         16\n",
       "Cl          16\n",
       "HNO2        15\n",
       "MPN         14\n",
       "H           14\n",
       "R4O2        14\n",
       "ClO         14\n",
       "LISOPOH     13\n",
       "LISOPNO3    13\n",
       "BrNO2       13\n",
       "INO         13\n",
       "HNO4        13\n",
       "R4N1        13\n",
       "NMAO3       13\n",
       "INO2        13\n",
       "MRO2        13\n",
       "MO2         13\n",
       "Br2         12\n",
       "ISNOOA      12\n",
       "ATO2        12\n",
       "HC5OO       12\n",
       "ETO2        12\n",
       "OH          12\n",
       "CO2         11\n",
       "dtype: int64"
      ]
     },
     "execution_count": 18,
     "metadata": {},
     "output_type": "execute_result"
    }
   ],
   "source": [
    "df_dependence.nlargest(40)  # this depends greatly on particular sample!"
   ]
  },
  {
   "cell_type": "code",
   "execution_count": null,
   "metadata": {},
   "outputs": [],
   "source": []
  }
 ],
 "metadata": {
  "kernelspec": {
   "display_name": "Python 3",
   "language": "python",
   "name": "python3"
  },
  "language_info": {
   "codemirror_mode": {
    "name": "ipython",
    "version": 3
   },
   "file_extension": ".py",
   "mimetype": "text/x-python",
   "name": "python",
   "nbconvert_exporter": "python",
   "pygments_lexer": "ipython3",
   "version": "3.6.6"
  }
 },
 "nbformat": 4,
 "nbformat_minor": 2
}
