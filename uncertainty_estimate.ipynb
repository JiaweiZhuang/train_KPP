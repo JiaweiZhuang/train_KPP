{
 "cells": [
  {
   "cell_type": "code",
   "execution_count": 1,
   "metadata": {},
   "outputs": [],
   "source": [
    "%matplotlib inline\n",
    "import matplotlib.pyplot as plt\n",
    "import numpy as np\n",
    "import pandas as pd\n",
    "import seaborn as sns\n",
    "\n",
    "from ipywidgets import interact, SelectionSlider, IntSlider"
   ]
  },
  {
   "cell_type": "code",
   "execution_count": 2,
   "metadata": {},
   "outputs": [
    {
     "name": "stdout",
     "output_type": "stream",
     "text": [
      "CPU times: user 4.24 s, sys: 294 ms, total: 4.53 s\n",
      "Wall time: 4.55 s\n",
      "CPU times: user 4.24 s, sys: 298 ms, total: 4.54 s\n",
      "Wall time: 4.62 s\n"
     ]
    }
   ],
   "source": [
    "%time df_c_before = pd.read_csv('c_before.csv')\n",
    "%time df_c_after = pd.read_csv('c_after.csv')"
   ]
  },
  {
   "cell_type": "code",
   "execution_count": 3,
   "metadata": {},
   "outputs": [
    {
     "name": "stdout",
     "output_type": "stream",
     "text": [
      "CPU times: user 1.98 s, sys: 130 ms, total: 2.11 s\n",
      "Wall time: 2.15 s\n",
      "CPU times: user 64.4 ms, sys: 7.48 ms, total: 71.9 ms\n",
      "Wall time: 72.1 ms\n"
     ]
    }
   ],
   "source": [
    "%time df_jval = pd.read_csv('jval.csv')\n",
    "%time df_phy = pd.read_csv('phy.csv')"
   ]
  },
  {
   "cell_type": "code",
   "execution_count": 4,
   "metadata": {},
   "outputs": [
    {
     "data": {
      "text/plain": [
       "((66240, 218), (66240, 122))"
      ]
     },
     "execution_count": 4,
     "metadata": {},
     "output_type": "execute_result"
    }
   ],
   "source": [
    "df_c_before.shape, df_jval.shape"
   ]
  },
  {
   "cell_type": "code",
   "execution_count": 5,
   "metadata": {},
   "outputs": [
    {
     "data": {
      "text/html": [
       "<div>\n",
       "<style scoped>\n",
       "    .dataframe tbody tr th:only-of-type {\n",
       "        vertical-align: middle;\n",
       "    }\n",
       "\n",
       "    .dataframe tbody tr th {\n",
       "        vertical-align: top;\n",
       "    }\n",
       "\n",
       "    .dataframe thead th {\n",
       "        text-align: right;\n",
       "    }\n",
       "</style>\n",
       "<table border=\"1\" class=\"dataframe\">\n",
       "  <thead>\n",
       "    <tr style=\"text-align: right;\">\n",
       "      <th></th>\n",
       "      <th>CH2I2</th>\n",
       "      <th>CH2ICl</th>\n",
       "      <th>CH2IBr</th>\n",
       "      <th>AERI</th>\n",
       "      <th>INDIOL</th>\n",
       "      <th>ISALA</th>\n",
       "      <th>ISALC</th>\n",
       "      <th>ISN1OA</th>\n",
       "      <th>ISN1OG</th>\n",
       "      <th>LVOCOA</th>\n",
       "      <th>...</th>\n",
       "      <th>121/IONO2/IONO2</th>\n",
       "      <th>122/I2O2/I2O2</th>\n",
       "      <th>123/CH3I/CH3I</th>\n",
       "      <th>124/CH2I2/CH2I2</th>\n",
       "      <th>125/CH2ICl/CH2ICl</th>\n",
       "      <th>126/CH2IBr/CH2IBr</th>\n",
       "      <th>127/I2O4/I2O2</th>\n",
       "      <th>128/I2O3/I2O3</th>\n",
       "      <th>129/IBr/IBr</th>\n",
       "      <th>130/ICl/ICl</th>\n",
       "    </tr>\n",
       "  </thead>\n",
       "  <tbody>\n",
       "    <tr>\n",
       "      <th>0</th>\n",
       "      <td>5721.954735</td>\n",
       "      <td>1.661646e+06</td>\n",
       "      <td>144616.006849</td>\n",
       "      <td>253087.29189</td>\n",
       "      <td>8.821088e+06</td>\n",
       "      <td>396480.350095</td>\n",
       "      <td>9878.959109</td>\n",
       "      <td>60996.225341</td>\n",
       "      <td>1.380585</td>\n",
       "      <td>246923.607262</td>\n",
       "      <td>...</td>\n",
       "      <td>0.0</td>\n",
       "      <td>0.0</td>\n",
       "      <td>0.0</td>\n",
       "      <td>0.0</td>\n",
       "      <td>0.0</td>\n",
       "      <td>0.0</td>\n",
       "      <td>0.0</td>\n",
       "      <td>0.0</td>\n",
       "      <td>0.0</td>\n",
       "      <td>0.0</td>\n",
       "    </tr>\n",
       "    <tr>\n",
       "      <th>1</th>\n",
       "      <td>5721.954735</td>\n",
       "      <td>1.661646e+06</td>\n",
       "      <td>144616.006849</td>\n",
       "      <td>253087.29189</td>\n",
       "      <td>8.821088e+06</td>\n",
       "      <td>396480.350095</td>\n",
       "      <td>9878.959109</td>\n",
       "      <td>60996.225341</td>\n",
       "      <td>1.380585</td>\n",
       "      <td>246923.607262</td>\n",
       "      <td>...</td>\n",
       "      <td>0.0</td>\n",
       "      <td>0.0</td>\n",
       "      <td>0.0</td>\n",
       "      <td>0.0</td>\n",
       "      <td>0.0</td>\n",
       "      <td>0.0</td>\n",
       "      <td>0.0</td>\n",
       "      <td>0.0</td>\n",
       "      <td>0.0</td>\n",
       "      <td>0.0</td>\n",
       "    </tr>\n",
       "    <tr>\n",
       "      <th>2</th>\n",
       "      <td>5721.954735</td>\n",
       "      <td>1.661646e+06</td>\n",
       "      <td>144616.006849</td>\n",
       "      <td>253087.29189</td>\n",
       "      <td>8.821088e+06</td>\n",
       "      <td>396480.350095</td>\n",
       "      <td>9878.959109</td>\n",
       "      <td>60996.225341</td>\n",
       "      <td>1.380585</td>\n",
       "      <td>246923.607262</td>\n",
       "      <td>...</td>\n",
       "      <td>0.0</td>\n",
       "      <td>0.0</td>\n",
       "      <td>0.0</td>\n",
       "      <td>0.0</td>\n",
       "      <td>0.0</td>\n",
       "      <td>0.0</td>\n",
       "      <td>0.0</td>\n",
       "      <td>0.0</td>\n",
       "      <td>0.0</td>\n",
       "      <td>0.0</td>\n",
       "    </tr>\n",
       "    <tr>\n",
       "      <th>3</th>\n",
       "      <td>5721.954735</td>\n",
       "      <td>1.661646e+06</td>\n",
       "      <td>144616.006849</td>\n",
       "      <td>253087.29189</td>\n",
       "      <td>8.821088e+06</td>\n",
       "      <td>396480.350095</td>\n",
       "      <td>9878.959109</td>\n",
       "      <td>60996.225341</td>\n",
       "      <td>1.380585</td>\n",
       "      <td>246923.607262</td>\n",
       "      <td>...</td>\n",
       "      <td>0.0</td>\n",
       "      <td>0.0</td>\n",
       "      <td>0.0</td>\n",
       "      <td>0.0</td>\n",
       "      <td>0.0</td>\n",
       "      <td>0.0</td>\n",
       "      <td>0.0</td>\n",
       "      <td>0.0</td>\n",
       "      <td>0.0</td>\n",
       "      <td>0.0</td>\n",
       "    </tr>\n",
       "    <tr>\n",
       "      <th>4</th>\n",
       "      <td>5721.954735</td>\n",
       "      <td>1.661646e+06</td>\n",
       "      <td>144616.006849</td>\n",
       "      <td>253087.29189</td>\n",
       "      <td>8.821088e+06</td>\n",
       "      <td>396480.350095</td>\n",
       "      <td>9878.959109</td>\n",
       "      <td>60996.225341</td>\n",
       "      <td>1.380585</td>\n",
       "      <td>246923.607262</td>\n",
       "      <td>...</td>\n",
       "      <td>0.0</td>\n",
       "      <td>0.0</td>\n",
       "      <td>0.0</td>\n",
       "      <td>0.0</td>\n",
       "      <td>0.0</td>\n",
       "      <td>0.0</td>\n",
       "      <td>0.0</td>\n",
       "      <td>0.0</td>\n",
       "      <td>0.0</td>\n",
       "      <td>0.0</td>\n",
       "    </tr>\n",
       "  </tbody>\n",
       "</table>\n",
       "<p>5 rows × 344 columns</p>\n",
       "</div>"
      ],
      "text/plain": [
       "         CH2I2        CH2ICl         CH2IBr          AERI        INDIOL  \\\n",
       "0  5721.954735  1.661646e+06  144616.006849  253087.29189  8.821088e+06   \n",
       "1  5721.954735  1.661646e+06  144616.006849  253087.29189  8.821088e+06   \n",
       "2  5721.954735  1.661646e+06  144616.006849  253087.29189  8.821088e+06   \n",
       "3  5721.954735  1.661646e+06  144616.006849  253087.29189  8.821088e+06   \n",
       "4  5721.954735  1.661646e+06  144616.006849  253087.29189  8.821088e+06   \n",
       "\n",
       "           ISALA        ISALC        ISN1OA    ISN1OG         LVOCOA  \\\n",
       "0  396480.350095  9878.959109  60996.225341  1.380585  246923.607262   \n",
       "1  396480.350095  9878.959109  60996.225341  1.380585  246923.607262   \n",
       "2  396480.350095  9878.959109  60996.225341  1.380585  246923.607262   \n",
       "3  396480.350095  9878.959109  60996.225341  1.380585  246923.607262   \n",
       "4  396480.350095  9878.959109  60996.225341  1.380585  246923.607262   \n",
       "\n",
       "      ...       121/IONO2/IONO2  122/I2O2/I2O2  123/CH3I/CH3I  \\\n",
       "0     ...                   0.0            0.0            0.0   \n",
       "1     ...                   0.0            0.0            0.0   \n",
       "2     ...                   0.0            0.0            0.0   \n",
       "3     ...                   0.0            0.0            0.0   \n",
       "4     ...                   0.0            0.0            0.0   \n",
       "\n",
       "   124/CH2I2/CH2I2  125/CH2ICl/CH2ICl  126/CH2IBr/CH2IBr  127/I2O4/I2O2  \\\n",
       "0              0.0                0.0                0.0            0.0   \n",
       "1              0.0                0.0                0.0            0.0   \n",
       "2              0.0                0.0                0.0            0.0   \n",
       "3              0.0                0.0                0.0            0.0   \n",
       "4              0.0                0.0                0.0            0.0   \n",
       "\n",
       "   128/I2O3/I2O3  129/IBr/IBr  130/ICl/ICl  \n",
       "0            0.0          0.0          0.0  \n",
       "1            0.0          0.0          0.0  \n",
       "2            0.0          0.0          0.0  \n",
       "3            0.0          0.0          0.0  \n",
       "4            0.0          0.0          0.0  \n",
       "\n",
       "[5 rows x 344 columns]"
      ]
     },
     "execution_count": 5,
     "metadata": {},
     "output_type": "execute_result"
    }
   ],
   "source": [
    "df_in = pd.concat([df_c_before, df_phy, df_jval], axis=1)\n",
    "df_in.head()"
   ]
  },
  {
   "cell_type": "markdown",
   "metadata": {},
   "source": [
    "# Fitting"
   ]
  },
  {
   "cell_type": "code",
   "execution_count": 6,
   "metadata": {},
   "outputs": [],
   "source": [
    "import sklearn\n",
    "from sklearn.model_selection import train_test_split\n",
    "from sklearn.preprocessing import StandardScaler\n",
    "from sklearn.metrics import mean_squared_error, r2_score\n",
    "from sklearn.tree import DecisionTreeRegressor"
   ]
  },
  {
   "cell_type": "code",
   "execution_count": 7,
   "metadata": {},
   "outputs": [
    {
     "data": {
      "text/plain": [
       "(66240, 344)"
      ]
     },
     "execution_count": 7,
     "metadata": {},
     "output_type": "execute_result"
    }
   ],
   "source": [
    "X_all = df_in.values\n",
    "X_all.shape"
   ]
  },
  {
   "cell_type": "code",
   "execution_count": 8,
   "metadata": {},
   "outputs": [],
   "source": [
    "Y_all = df_c_after['NO'].values"
   ]
  },
  {
   "cell_type": "code",
   "execution_count": 9,
   "metadata": {},
   "outputs": [
    {
     "data": {
      "text/plain": [
       "(66240,)"
      ]
     },
     "execution_count": 9,
     "metadata": {},
     "output_type": "execute_result"
    }
   ],
   "source": [
    "Y_all.shape"
   ]
  },
  {
   "cell_type": "code",
   "execution_count": 10,
   "metadata": {},
   "outputs": [],
   "source": [
    "X_train, X_test, Y_train, Y_test = train_test_split(X_all, Y_all, test_size=0.2, random_state=42)"
   ]
  },
  {
   "cell_type": "markdown",
   "metadata": {},
   "source": [
    "# Single model"
   ]
  },
  {
   "cell_type": "code",
   "execution_count": 11,
   "metadata": {},
   "outputs": [
    {
     "data": {
      "text/plain": [
       "DecisionTreeRegressor(criterion='mse', max_depth=None, max_features=None,\n",
       "           max_leaf_nodes=None, min_impurity_decrease=0.0,\n",
       "           min_impurity_split=None, min_samples_leaf=1,\n",
       "           min_samples_split=2, min_weight_fraction_leaf=0.0,\n",
       "           presort=False, random_state=None, splitter='best')"
      ]
     },
     "execution_count": 11,
     "metadata": {},
     "output_type": "execute_result"
    }
   ],
   "source": [
    "model_tree = DecisionTreeRegressor()\n",
    "model_tree"
   ]
  },
  {
   "cell_type": "code",
   "execution_count": 12,
   "metadata": {},
   "outputs": [],
   "source": [
    "model_tree = DecisionTreeRegressor(max_leaf_nodes=2000)"
   ]
  },
  {
   "cell_type": "code",
   "execution_count": 13,
   "metadata": {},
   "outputs": [
    {
     "name": "stdout",
     "output_type": "stream",
     "text": [
      "CPU times: user 17.9 s, sys: 175 ms, total: 18.1 s\n",
      "Wall time: 18.3 s\n"
     ]
    },
    {
     "data": {
      "text/plain": [
       "DecisionTreeRegressor(criterion='mse', max_depth=None, max_features=None,\n",
       "           max_leaf_nodes=2000, min_impurity_decrease=0.0,\n",
       "           min_impurity_split=None, min_samples_leaf=1,\n",
       "           min_samples_split=2, min_weight_fraction_leaf=0.0,\n",
       "           presort=False, random_state=None, splitter='best')"
      ]
     },
     "execution_count": 13,
     "metadata": {},
     "output_type": "execute_result"
    }
   ],
   "source": [
    "%time model_tree.fit(X_train, Y_train)"
   ]
  },
  {
   "cell_type": "code",
   "execution_count": 14,
   "metadata": {},
   "outputs": [],
   "source": [
    "Y_pred_train = model_tree.predict(X_train)\n",
    "Y_pred_test = model_tree.predict(X_test)"
   ]
  },
  {
   "cell_type": "code",
   "execution_count": 15,
   "metadata": {},
   "outputs": [
    {
     "data": {
      "text/plain": [
       "(0.9998803764587633, 0.9615458360918296)"
      ]
     },
     "execution_count": 15,
     "metadata": {},
     "output_type": "execute_result"
    }
   ],
   "source": [
    "r2_score(Y_pred_train, Y_train), r2_score(Y_pred_test, Y_test)"
   ]
  },
  {
   "cell_type": "code",
   "execution_count": 16,
   "metadata": {},
   "outputs": [
    {
     "data": {
      "text/plain": [
       "<matplotlib.collections.PathCollection at 0x1a27f89160>"
      ]
     },
     "execution_count": 16,
     "metadata": {},
     "output_type": "execute_result"
    },
    {
     "data": {
      "image/png": "[encoded data removed]",
      "text/plain": [
       "<Figure size 432x288 with 1 Axes>"
      ]
     },
     "metadata": {},
     "output_type": "display_data"
    }
   ],
   "source": [
    "plt.scatter(Y_pred_train, Y_train, alpha=0.5, s=4)\n",
    "plt.scatter(Y_pred_test, Y_test, alpha=0.5, s=4)"
   ]
  },
  {
   "cell_type": "code",
   "execution_count": 17,
   "metadata": {},
   "outputs": [
    {
     "data": {
      "text/plain": [
       "<matplotlib.axes._subplots.AxesSubplot at 0x1a28099128>"
      ]
     },
     "execution_count": 17,
     "metadata": {},
     "output_type": "execute_result"
    },
    {
     "data": {
      "image/png": "[encoded data removed]",
      "text/plain": [
       "<Figure size 432x288 with 1 Axes>"
      ]
     },
     "metadata": {},
     "output_type": "display_data"
    }
   ],
   "source": [
    "# feature importance diagnostics\n",
    "feat_importances = pd.Series(model_tree.feature_importances_, index=df_in.columns)\n",
    "feat_importances.nlargest(30).plot(kind='barh')"
   ]
  },
  {
   "cell_type": "markdown",
   "metadata": {},
   "source": [
    "# Ensemble model"
   ]
  },
  {
   "cell_type": "code",
   "execution_count": 18,
   "metadata": {},
   "outputs": [
    {
     "name": "stderr",
     "output_type": "stream",
     "text": [
      "/Users/zhuangjw/Research/Computing/miniconda3/envs/sci/lib/python3.6/site-packages/sklearn/ensemble/weight_boosting.py:29: DeprecationWarning: numpy.core.umath_tests is an internal NumPy module and should not be imported. It will be removed in a future NumPy release.\n",
      "  from numpy.core.umath_tests import inner1d\n"
     ]
    }
   ],
   "source": [
    "from sklearn.ensemble import RandomForestRegressor"
   ]
  },
  {
   "cell_type": "code",
   "execution_count": 19,
   "metadata": {},
   "outputs": [
    {
     "data": {
      "text/plain": [
       "RandomForestRegressor(bootstrap=True, criterion='mse', max_depth=None,\n",
       "           max_features='auto', max_leaf_nodes=2000,\n",
       "           min_impurity_decrease=0.0, min_impurity_split=None,\n",
       "           min_samples_leaf=1, min_samples_split=2,\n",
       "           min_weight_fraction_leaf=0.0, n_estimators=10, n_jobs=-1,\n",
       "           oob_score=False, random_state=None, verbose=2, warm_start=False)"
      ]
     },
     "execution_count": 19,
     "metadata": {},
     "output_type": "execute_result"
    }
   ],
   "source": [
    "model_rf = RandomForestRegressor(max_leaf_nodes=2000, n_estimators=10, n_jobs=-1, verbose=2)\n",
    "model_rf"
   ]
  },
  {
   "cell_type": "code",
   "execution_count": 20,
   "metadata": {},
   "outputs": [
    {
     "name": "stdout",
     "output_type": "stream",
     "text": [
      "building tree 1 of 10\n",
      "building tree 2 of 10\n",
      "building tree 3 of 10building tree 4 of 10\n",
      "\n",
      "building tree 5 of 10\n",
      "building tree 6 of 10\n",
      "building tree 7 of 10\n",
      "building tree 8 of 10\n",
      "building tree 9 of 10\n",
      "building tree 10 of 10\n",
      "CPU times: user 2min 17s, sys: 398 ms, total: 2min 17s\n",
      "Wall time: 42.2 s\n"
     ]
    },
    {
     "name": "stderr",
     "output_type": "stream",
     "text": [
      "[Parallel(n_jobs=-1)]: Done  10 out of  10 | elapsed:   42.2s finished\n"
     ]
    },
    {
     "data": {
      "text/plain": [
       "RandomForestRegressor(bootstrap=True, criterion='mse', max_depth=None,\n",
       "           max_features='auto', max_leaf_nodes=2000,\n",
       "           min_impurity_decrease=0.0, min_impurity_split=None,\n",
       "           min_samples_leaf=1, min_samples_split=2,\n",
       "           min_weight_fraction_leaf=0.0, n_estimators=10, n_jobs=-1,\n",
       "           oob_score=False, random_state=None, verbose=2, warm_start=False)"
      ]
     },
     "execution_count": 20,
     "metadata": {},
     "output_type": "execute_result"
    }
   ],
   "source": [
    "%time model_rf.fit(X_train, Y_train)"
   ]
  },
  {
   "cell_type": "code",
   "execution_count": 21,
   "metadata": {},
   "outputs": [
    {
     "name": "stderr",
     "output_type": "stream",
     "text": [
      "[Parallel(n_jobs=4)]: Done  10 out of  10 | elapsed:    0.0s finished\n",
      "[Parallel(n_jobs=4)]: Done  10 out of  10 | elapsed:    0.0s finished\n"
     ]
    }
   ],
   "source": [
    "Y_pred_train_em = model_rf.predict(X_train)\n",
    "Y_pred_test_em = model_rf.predict(X_test)"
   ]
  },
  {
   "cell_type": "code",
   "execution_count": 22,
   "metadata": {},
   "outputs": [
    {
     "data": {
      "text/plain": [
       "(0.9933956957391142, 0.9635271251939794)"
      ]
     },
     "execution_count": 22,
     "metadata": {},
     "output_type": "execute_result"
    }
   ],
   "source": [
    "r2_score(Y_pred_train_em, Y_train), r2_score(Y_pred_test_em, Y_test)"
   ]
  },
  {
   "cell_type": "code",
   "execution_count": 23,
   "metadata": {},
   "outputs": [
    {
     "data": {
      "text/plain": [
       "<matplotlib.collections.PathCollection at 0x1a28234eb8>"
      ]
     },
     "execution_count": 23,
     "metadata": {},
     "output_type": "execute_result"
    },
    {
     "data": {
      "image/png": "[encoded data removed]",
      "text/plain": [
       "<Figure size 432x288 with 1 Axes>"
      ]
     },
     "metadata": {},
     "output_type": "display_data"
    }
   ],
   "source": [
    "plt.scatter(Y_pred_train_em, Y_train, alpha=0.5, s=4)\n",
    "plt.scatter(Y_pred_test_em, Y_test, alpha=0.5, s=4)"
   ]
  },
  {
   "cell_type": "code",
   "execution_count": 24,
   "metadata": {},
   "outputs": [
    {
     "data": {
      "text/plain": [
       "<matplotlib.axes._subplots.AxesSubplot at 0x1a28092b70>"
      ]
     },
     "execution_count": 24,
     "metadata": {},
     "output_type": "execute_result"
    },
    {
     "data": {
      "image/png": "[encoded data removed]",
      "text/plain": [
       "<Figure size 432x288 with 1 Axes>"
      ]
     },
     "metadata": {},
     "output_type": "display_data"
    }
   ],
   "source": [
    "# feature importance diagnostics\n",
    "feat_importances = pd.Series(model_rf.feature_importances_, index=df_in.columns)\n",
    "feat_importances.nlargest(30).plot(kind='barh')"
   ]
  },
  {
   "cell_type": "code",
   "execution_count": 25,
   "metadata": {},
   "outputs": [],
   "source": [
    "ensemble_pred_train = []\n",
    "ensemble_pred_test = []\n",
    "\n",
    "for tree in model_rf.estimators_:\n",
    "    ensemble_pred_train.append(tree.predict(X_train))\n",
    "    ensemble_pred_test.append(tree.predict(X_test))\n",
    "    \n",
    "ensemble_pred_train = np.array(ensemble_pred_train)\n",
    "ensemble_pred_test = np.array(ensemble_pred_test)"
   ]
  },
  {
   "cell_type": "code",
   "execution_count": 26,
   "metadata": {},
   "outputs": [
    {
     "data": {
      "text/plain": [
       "(10, 13248)"
      ]
     },
     "execution_count": 26,
     "metadata": {},
     "output_type": "execute_result"
    }
   ],
   "source": [
    "ensemble_pred_test.shape"
   ]
  },
  {
   "cell_type": "code",
   "execution_count": 27,
   "metadata": {},
   "outputs": [
    {
     "data": {
      "text/plain": [
       "<matplotlib.collections.PathCollection at 0x1a2ca79e48>"
      ]
     },
     "execution_count": 27,
     "metadata": {},
     "output_type": "execute_result"
    },
    {
     "data": {
      "image/png": "[encoded data removed]",
      "text/plain": [
       "<Figure size 432x288 with 1 Axes>"
      ]
     },
     "metadata": {},
     "output_type": "display_data"
    }
   ],
   "source": [
    "plt.scatter(ensemble_pred_test.std(axis=0), np.abs(Y_pred_test_em-Y_test), alpha=0.2)"
   ]
  },
  {
   "cell_type": "code",
   "execution_count": 28,
   "metadata": {},
   "outputs": [
    {
     "data": {
      "text/plain": [
       "<ErrorbarContainer object of 3 artists>"
      ]
     },
     "execution_count": 28,
     "metadata": {},
     "output_type": "execute_result"
    },
    {
     "data": {
      "image/png": "[encoded data removed]",
      "text/plain": [
       "<Figure size 432x288 with 1 Axes>"
      ]
     },
     "metadata": {},
     "output_type": "display_data"
    }
   ],
   "source": [
    "plt.errorbar(Y_test, Y_pred_test_em, yerr=ensemble_pred_test.std(axis=0), fmt='.')"
   ]
  }
 ],
 "metadata": {
  "kernelspec": {
   "display_name": "Python 3",
   "language": "python",
   "name": "python3"
  },
  "language_info": {
   "codemirror_mode": {
    "name": "ipython",
    "version": 3
   },
   "file_extension": ".py",
   "mimetype": "text/x-python",
   "name": "python",
   "nbconvert_exporter": "python",
   "pygments_lexer": "ipython3",
   "version": "3.6.6"
  }
 },
 "nbformat": 4,
 "nbformat_minor": 2
}
