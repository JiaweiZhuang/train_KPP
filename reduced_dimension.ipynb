{
 "cells": [
  {
   "cell_type": "code",
   "execution_count": 1,
   "metadata": {},
   "outputs": [],
   "source": [
    "%matplotlib inline\n",
    "import matplotlib.pyplot as plt\n",
    "import numpy as np\n",
    "import pandas as pd\n",
    "import xarray as xr\n",
    "import seaborn as sns\n",
    "\n",
    "from ipywidgets import interact, SelectionSlider, IntSlider"
   ]
  },
  {
   "cell_type": "code",
   "execution_count": 2,
   "metadata": {},
   "outputs": [],
   "source": [
    "import metadata_util\n",
    "spec_names = metadata_util.read_spec_names()\n",
    "phy_names = metadata_util.get_phy_names()\n",
    "jval_names = metadata_util.read_jval_names()"
   ]
  },
  {
   "cell_type": "code",
   "execution_count": 3,
   "metadata": {},
   "outputs": [],
   "source": [
    "import sys\n",
    "sys.path.append(\"../../GEOSChem/KPP4GC/GC_12_Standard/\") # dirty fix to allow importing\n",
    "import kpp4py"
   ]
  },
  {
   "cell_type": "code",
   "execution_count": 4,
   "metadata": {},
   "outputs": [
    {
     "data": {
      "text/plain": [
       "<xarray.Dataset>\n",
       "Dimensions:   (lat: 46, lev: 72, lon: 72, nphotol: 130, nphy: 4, nreact: 725, nspec: 240)\n",
       "Coordinates:\n",
       "  * nspec     (nspec) <U8 'CH2I2' 'CH2ICl' 'CH2IBr' 'AERI' 'CO2' 'INDIOL' ...\n",
       "  * nphotol   (nphotol) object '1/O2/O2' '2/O3/O3' '3/O3/O3(1D)' '4/H2O/H2O' ...\n",
       "  * nphy      (nphy) <U6 'TEMP' 'PRESS' 'NUMDEN' 'H2O'\n",
       "Dimensions without coordinates: lat, lev, lon, nreact\n",
       "Data variables:\n",
       "    C_before  (lev, lat, lon, nspec) float64 ...\n",
       "    C_after   (lev, lat, lon, nspec) float64 ...\n",
       "    PHOTOL    (lev, lat, lon, nphotol) float64 ...\n",
       "    PHY       (lev, lat, lon, nphy) float64 ...\n",
       "    RCONST    (lev, lat, lon, nreact) float64 ..."
      ]
     },
     "execution_count": 4,
     "metadata": {},
     "output_type": "execute_result"
    }
   ],
   "source": [
    "ds = xr.open_dataset('./KPP_fields_100.nc')\n",
    "ds.coords['nspec'] = spec_names\n",
    "ds.coords['nphotol'] = jval_names\n",
    "ds.coords['nphy'] = phy_names\n",
    "ds"
   ]
  },
  {
   "cell_type": "code",
   "execution_count": 5,
   "metadata": {},
   "outputs": [
    {
     "data": {
      "text/plain": [
       "<xarray.Dataset>\n",
       "Dimensions:   (nphotol: 130, nphy: 4, nreact: 725, nspec: 240)\n",
       "Coordinates:\n",
       "  * nspec     (nspec) <U8 'CH2I2' 'CH2ICl' 'CH2IBr' 'AERI' 'CO2' 'INDIOL' ...\n",
       "  * nphotol   (nphotol) object '1/O2/O2' '2/O3/O3' '3/O3/O3(1D)' '4/H2O/H2O' ...\n",
       "  * nphy      (nphy) <U6 'TEMP' 'PRESS' 'NUMDEN' 'H2O'\n",
       "Dimensions without coordinates: nreact\n",
       "Data variables:\n",
       "    C_before  (nspec) float64 1.803e+04 2.358e+05 3.319e+04 9.041e+05 0.0 ...\n",
       "    C_after   (nspec) float64 1.358e+04 2.232e+05 2.919e+04 9.041e+05 ...\n",
       "    PHOTOL    (nphotol) float64 2.057e-11 0.0002036 0.0001275 0.0 0.0 ...\n",
       "    PHY       (nphy) float64 200.6 296.9 8.097e+18 5.378e+16\n",
       "    RCONST    (nreact) float64 6.37e-15 3.152e-14 1.107e-15 7.199e-18 ..."
      ]
     },
     "execution_count": 5,
     "metadata": {},
     "output_type": "execute_result"
    }
   ],
   "source": [
    "ds_mean = ds.mean(dim=['lev', 'lat', 'lon'])\n",
    "ds_mean"
   ]
  },
  {
   "cell_type": "markdown",
   "metadata": {},
   "source": [
    "# Choose reference point"
   ]
  },
  {
   "cell_type": "code",
   "execution_count": 6,
   "metadata": {},
   "outputs": [
    {
     "data": {
      "text/plain": [
       "((240,), (4,), (130,))"
      ]
     },
     "execution_count": 6,
     "metadata": {},
     "output_type": "execute_result"
    }
   ],
   "source": [
    "ref_c_before = ds_mean['C_before'].values\n",
    "ref_phy = ds_mean['PHY'].values\n",
    "ref_photol = ds_mean['PHOTOL'].values\n",
    "\n",
    "ref_c_before.shape, ref_phy.shape, ref_photol.shape"
   ]
  },
  {
   "cell_type": "code",
   "execution_count": 7,
   "metadata": {},
   "outputs": [
    {
     "data": {
      "text/plain": [
       "(374,)"
      ]
     },
     "execution_count": 7,
     "metadata": {},
     "output_type": "execute_result"
    }
   ],
   "source": [
    "ref_features = np.r_[ref_c_before, ref_phy, ref_photol]\n",
    "ref_features.shape"
   ]
  },
  {
   "cell_type": "code",
   "execution_count": 8,
   "metadata": {},
   "outputs": [
    {
     "data": {
      "text/plain": [
       "(240,)"
      ]
     },
     "execution_count": 8,
     "metadata": {},
     "output_type": "execute_result"
    }
   ],
   "source": [
    "ref_c_after = kpp4py.onestep(ref_c_before, ref_phy, ref_photol).ravel()\n",
    "ref_c_after.shape"
   ]
  },
  {
   "cell_type": "code",
   "execution_count": 9,
   "metadata": {},
   "outputs": [
    {
     "data": {
      "text/plain": [
       "374"
      ]
     },
     "execution_count": 9,
     "metadata": {},
     "output_type": "execute_result"
    }
   ],
   "source": [
    "n_c = ref_c_before.shape[0]\n",
    "n_phy = ref_phy.shape[0]\n",
    "n_jv = ref_photol.shape[0]\n",
    "\n",
    "n_features = n_c + n_phy + n_jv\n",
    "n_features"
   ]
  },
  {
   "cell_type": "markdown",
   "metadata": {},
   "source": [
    "# Change a particular input variable"
   ]
  },
  {
   "cell_type": "code",
   "execution_count": 10,
   "metadata": {},
   "outputs": [
    {
     "data": {
      "text/plain": [
       "230"
      ]
     },
     "execution_count": 10,
     "metadata": {},
     "output_type": "execute_result"
    }
   ],
   "source": [
    "var = 'O3'\n",
    "idx = spec_names.index(var)\n",
    "idx"
   ]
  },
  {
   "cell_type": "code",
   "execution_count": 11,
   "metadata": {},
   "outputs": [
    {
     "data": {
      "text/plain": [
       "(238464,)"
      ]
     },
     "execution_count": 11,
     "metadata": {},
     "output_type": "execute_result"
    }
   ],
   "source": [
    "original_sample = ds['C_before'].sel(nspec=var).values.ravel()\n",
    "original_sample.shape"
   ]
  },
  {
   "cell_type": "code",
   "execution_count": 12,
   "metadata": {},
   "outputs": [
    {
     "data": {
      "text/plain": [
       "(<matplotlib.lines.Line2D at 0x1c22657160>,)"
      ]
     },
     "execution_count": 12,
     "metadata": {},
     "output_type": "execute_result"
    },
    {
     "data": {
      "image/png": "[encoded data removed]",
      "text/plain": [
       "<Figure size 432x288 with 1 Axes>"
      ]
     },
     "metadata": {},
     "output_type": "display_data"
    }
   ],
   "source": [
    "q0 = np.quantile(original_sample, 0.1)\n",
    "q1 = np.quantile(original_sample, 0.9)\n",
    "plt.hist(original_sample)\n",
    "plt.axvline(q0, c='k'); plt.axvline(q1, c='k'),"
   ]
  },
  {
   "cell_type": "code",
   "execution_count": 13,
   "metadata": {},
   "outputs": [],
   "source": [
    "# change this particular feature\n",
    "n_grid = 20\n",
    "\n",
    "grid_features = np.empty([n_grid, n_features])\n",
    "grid_features[:] = ref_features\n",
    "\n",
    "grid_x = np.linspace(q0, q1, n_grid)\n",
    "grid_features[:,idx] = grid_x"
   ]
  },
  {
   "cell_type": "code",
   "execution_count": 14,
   "metadata": {},
   "outputs": [],
   "source": [
    "def solve_kpp(features):\n",
    "    c_before = features[:,0:n_c]\n",
    "    phy = features[:,n_c:n_c+n_phy]\n",
    "    jvals = features[:,n_c+n_phy:]\n",
    "    \n",
    "    c_after = kpp4py.onestep(c_before.T, \n",
    "                             phy.T, \n",
    "                             jvals.T).T\n",
    "    return c_after"
   ]
  },
  {
   "cell_type": "code",
   "execution_count": 15,
   "metadata": {},
   "outputs": [
    {
     "data": {
      "text/plain": [
       "(20, 240)"
      ]
     },
     "execution_count": 15,
     "metadata": {},
     "output_type": "execute_result"
    }
   ],
   "source": [
    "grid_result = solve_kpp(grid_features)\n",
    "grid_result.shape"
   ]
  },
  {
   "cell_type": "markdown",
   "metadata": {},
   "source": [
    "# Examine response"
   ]
  },
  {
   "cell_type": "code",
   "execution_count": 16,
   "metadata": {},
   "outputs": [
    {
     "data": {
      "text/plain": [
       "[<matplotlib.lines.Line2D at 0x1c228929b0>]"
      ]
     },
     "execution_count": 16,
     "metadata": {},
     "output_type": "execute_result"
    },
    {
     "data": {
      "image/png": "[encoded data removed]",
      "text/plain": [
       "<Figure size 432x288 with 1 Axes>"
      ]
     },
     "metadata": {},
     "output_type": "display_data"
    }
   ],
   "source": [
    "idy = spec_names.index('NO')\n",
    "\n",
    "plt.plot(grid_x, grid_result[:,idy])"
   ]
  },
  {
   "cell_type": "code",
   "execution_count": 17,
   "metadata": {},
   "outputs": [
    {
     "data": {
      "application/vnd.jupyter.widget-view+json": {
       "model_id": "04611984559747d6aef80ae4c330ff4a",
       "version_major": 2,
       "version_minor": 0
      },
      "text/plain": [
       "interactive(children=(SelectionSlider(description='var', options=('CH2I2', 'CH2ICl', 'CH2IBr', 'AERI', 'CO2', …"
      ]
     },
     "metadata": {},
     "output_type": "display_data"
    }
   ],
   "source": [
    "@interact(var=SelectionSlider(options=spec_names))\n",
    "def plot_response(var):\n",
    "    idy = spec_names.index(var)\n",
    "    plt.plot(grid_x, grid_result[:,idy])\n",
    "    plt.ylabel(var)"
   ]
  },
  {
   "cell_type": "code",
   "execution_count": 18,
   "metadata": {},
   "outputs": [
    {
     "data": {
      "text/html": [
       "<div>\n",
       "<style scoped>\n",
       "    .dataframe tbody tr th:only-of-type {\n",
       "        vertical-align: middle;\n",
       "    }\n",
       "\n",
       "    .dataframe tbody tr th {\n",
       "        vertical-align: top;\n",
       "    }\n",
       "\n",
       "    .dataframe thead th {\n",
       "        text-align: right;\n",
       "    }\n",
       "</style>\n",
       "<table border=\"1\" class=\"dataframe\">\n",
       "  <thead>\n",
       "    <tr style=\"text-align: right;\">\n",
       "      <th></th>\n",
       "      <th>CH2I2</th>\n",
       "      <th>CH2ICl</th>\n",
       "      <th>CH2IBr</th>\n",
       "      <th>AERI</th>\n",
       "      <th>CO2</th>\n",
       "      <th>INDIOL</th>\n",
       "      <th>ISALA</th>\n",
       "      <th>ISALC</th>\n",
       "      <th>ISN1OA</th>\n",
       "      <th>ISN1OG</th>\n",
       "      <th>...</th>\n",
       "      <th>O3</th>\n",
       "      <th>HO2</th>\n",
       "      <th>ClO</th>\n",
       "      <th>OH</th>\n",
       "      <th>H2O</th>\n",
       "      <th>H2</th>\n",
       "      <th>MOH</th>\n",
       "      <th>N2</th>\n",
       "      <th>O2</th>\n",
       "      <th>RCOOH</th>\n",
       "    </tr>\n",
       "  </thead>\n",
       "  <tbody>\n",
       "    <tr>\n",
       "      <th>0</th>\n",
       "      <td>11.124297</td>\n",
       "      <td>199950.044624</td>\n",
       "      <td>19320.979070</td>\n",
       "      <td>904082.125144</td>\n",
       "      <td>1.019021e+09</td>\n",
       "      <td>8.935689e+07</td>\n",
       "      <td>161999.912947</td>\n",
       "      <td>10538.932843</td>\n",
       "      <td>458691.457937</td>\n",
       "      <td>502356.294602</td>\n",
       "      <td>...</td>\n",
       "      <td>1.274422e+11</td>\n",
       "      <td>9.620198e+07</td>\n",
       "      <td>8.244200e+05</td>\n",
       "      <td>8.015144e+06</td>\n",
       "      <td>5.382779e+16</td>\n",
       "      <td>4.048405e+12</td>\n",
       "      <td>6.433087e+09</td>\n",
       "      <td>6.321989e+18</td>\n",
       "      <td>1.696282e+18</td>\n",
       "      <td>0.080968</td>\n",
       "    </tr>\n",
       "    <tr>\n",
       "      <th>1</th>\n",
       "      <td>11.255565</td>\n",
       "      <td>199950.045484</td>\n",
       "      <td>19320.988235</td>\n",
       "      <td>904082.125144</td>\n",
       "      <td>2.428186e+09</td>\n",
       "      <td>8.935689e+07</td>\n",
       "      <td>161999.912947</td>\n",
       "      <td>10538.932843</td>\n",
       "      <td>458691.457937</td>\n",
       "      <td>542704.592917</td>\n",
       "      <td>...</td>\n",
       "      <td>3.097440e+11</td>\n",
       "      <td>1.505395e+08</td>\n",
       "      <td>2.621343e+06</td>\n",
       "      <td>1.531621e+07</td>\n",
       "      <td>5.382779e+16</td>\n",
       "      <td>4.048405e+12</td>\n",
       "      <td>6.433087e+09</td>\n",
       "      <td>6.321989e+18</td>\n",
       "      <td>1.696282e+18</td>\n",
       "      <td>0.080968</td>\n",
       "    </tr>\n",
       "    <tr>\n",
       "      <th>2</th>\n",
       "      <td>11.913004</td>\n",
       "      <td>199950.049678</td>\n",
       "      <td>19321.033456</td>\n",
       "      <td>904082.125144</td>\n",
       "      <td>3.695782e+09</td>\n",
       "      <td>8.935689e+07</td>\n",
       "      <td>161999.912947</td>\n",
       "      <td>10538.932843</td>\n",
       "      <td>458691.457937</td>\n",
       "      <td>560281.038093</td>\n",
       "      <td>...</td>\n",
       "      <td>4.916321e+11</td>\n",
       "      <td>1.866244e+08</td>\n",
       "      <td>4.307654e+06</td>\n",
       "      <td>2.235432e+07</td>\n",
       "      <td>5.382779e+16</td>\n",
       "      <td>4.048405e+12</td>\n",
       "      <td>6.433087e+09</td>\n",
       "      <td>6.321989e+18</td>\n",
       "      <td>1.696282e+18</td>\n",
       "      <td>0.080968</td>\n",
       "    </tr>\n",
       "    <tr>\n",
       "      <th>3</th>\n",
       "      <td>12.415569</td>\n",
       "      <td>199950.052775</td>\n",
       "      <td>19321.067166</td>\n",
       "      <td>904082.125144</td>\n",
       "      <td>4.921731e+09</td>\n",
       "      <td>8.935689e+07</td>\n",
       "      <td>161999.912947</td>\n",
       "      <td>10538.932843</td>\n",
       "      <td>458691.457937</td>\n",
       "      <td>568597.361123</td>\n",
       "      <td>...</td>\n",
       "      <td>6.734225e+11</td>\n",
       "      <td>2.144404e+08</td>\n",
       "      <td>5.515336e+06</td>\n",
       "      <td>2.938820e+07</td>\n",
       "      <td>5.382779e+16</td>\n",
       "      <td>4.048405e+12</td>\n",
       "      <td>6.433087e+09</td>\n",
       "      <td>6.321989e+18</td>\n",
       "      <td>1.696282e+18</td>\n",
       "      <td>0.080968</td>\n",
       "    </tr>\n",
       "    <tr>\n",
       "      <th>4</th>\n",
       "      <td>12.665505</td>\n",
       "      <td>199950.054258</td>\n",
       "      <td>19321.083359</td>\n",
       "      <td>904082.125144</td>\n",
       "      <td>6.119673e+09</td>\n",
       "      <td>8.935689e+07</td>\n",
       "      <td>161999.912947</td>\n",
       "      <td>10538.932843</td>\n",
       "      <td>458691.457937</td>\n",
       "      <td>572541.812136</td>\n",
       "      <td>...</td>\n",
       "      <td>8.551628e+11</td>\n",
       "      <td>2.376530e+08</td>\n",
       "      <td>6.301816e+06</td>\n",
       "      <td>3.632950e+07</td>\n",
       "      <td>5.382779e+16</td>\n",
       "      <td>4.048405e+12</td>\n",
       "      <td>6.433087e+09</td>\n",
       "      <td>6.321989e+18</td>\n",
       "      <td>1.696282e+18</td>\n",
       "      <td>0.080968</td>\n",
       "    </tr>\n",
       "  </tbody>\n",
       "</table>\n",
       "<p>5 rows × 240 columns</p>\n",
       "</div>"
      ],
      "text/plain": [
       "       CH2I2         CH2ICl        CH2IBr           AERI           CO2  \\\n",
       "0  11.124297  199950.044624  19320.979070  904082.125144  1.019021e+09   \n",
       "1  11.255565  199950.045484  19320.988235  904082.125144  2.428186e+09   \n",
       "2  11.913004  199950.049678  19321.033456  904082.125144  3.695782e+09   \n",
       "3  12.415569  199950.052775  19321.067166  904082.125144  4.921731e+09   \n",
       "4  12.665505  199950.054258  19321.083359  904082.125144  6.119673e+09   \n",
       "\n",
       "         INDIOL          ISALA         ISALC         ISN1OA         ISN1OG  \\\n",
       "0  8.935689e+07  161999.912947  10538.932843  458691.457937  502356.294602   \n",
       "1  8.935689e+07  161999.912947  10538.932843  458691.457937  542704.592917   \n",
       "2  8.935689e+07  161999.912947  10538.932843  458691.457937  560281.038093   \n",
       "3  8.935689e+07  161999.912947  10538.932843  458691.457937  568597.361123   \n",
       "4  8.935689e+07  161999.912947  10538.932843  458691.457937  572541.812136   \n",
       "\n",
       "     ...               O3           HO2           ClO            OH  \\\n",
       "0    ...     1.274422e+11  9.620198e+07  8.244200e+05  8.015144e+06   \n",
       "1    ...     3.097440e+11  1.505395e+08  2.621343e+06  1.531621e+07   \n",
       "2    ...     4.916321e+11  1.866244e+08  4.307654e+06  2.235432e+07   \n",
       "3    ...     6.734225e+11  2.144404e+08  5.515336e+06  2.938820e+07   \n",
       "4    ...     8.551628e+11  2.376530e+08  6.301816e+06  3.632950e+07   \n",
       "\n",
       "            H2O            H2           MOH            N2            O2  \\\n",
       "0  5.382779e+16  4.048405e+12  6.433087e+09  6.321989e+18  1.696282e+18   \n",
       "1  5.382779e+16  4.048405e+12  6.433087e+09  6.321989e+18  1.696282e+18   \n",
       "2  5.382779e+16  4.048405e+12  6.433087e+09  6.321989e+18  1.696282e+18   \n",
       "3  5.382779e+16  4.048405e+12  6.433087e+09  6.321989e+18  1.696282e+18   \n",
       "4  5.382779e+16  4.048405e+12  6.433087e+09  6.321989e+18  1.696282e+18   \n",
       "\n",
       "      RCOOH  \n",
       "0  0.080968  \n",
       "1  0.080968  \n",
       "2  0.080968  \n",
       "3  0.080968  \n",
       "4  0.080968  \n",
       "\n",
       "[5 rows x 240 columns]"
      ]
     },
     "execution_count": 18,
     "metadata": {},
     "output_type": "execute_result"
    }
   ],
   "source": [
    "df_result = pd.DataFrame(grid_result, columns=spec_names)\n",
    "df_result.head()"
   ]
  },
  {
   "cell_type": "code",
   "execution_count": 19,
   "metadata": {},
   "outputs": [],
   "source": [
    "df_rel_change = (df_result.max() - df_result.min())/df_result.median()"
   ]
  },
  {
   "cell_type": "code",
   "execution_count": 20,
   "metadata": {},
   "outputs": [
    {
     "data": {
      "text/plain": [
       "LIMO       7.151169e+20\n",
       "IBr        4.140036e+10\n",
       "ISOP       1.257273e+09\n",
       "MACROO     8.862993e+07\n",
       "MVKOO      8.661228e+07\n",
       "DIBOO      9.461841e+06\n",
       "ISOPND     3.824716e+06\n",
       "RIPB       1.510975e+06\n",
       "RIPD       1.502740e+06\n",
       "DHPCARP    1.453527e+06\n",
       "RIO2       8.792989e+05\n",
       "HC5        6.699459e+05\n",
       "RIPA       2.634702e+05\n",
       "MTPA       1.895040e+05\n",
       "MTPO       1.895040e+05\n",
       "OLNN       8.603408e+04\n",
       "OLND       8.168183e+04\n",
       "ISOPNB     7.755295e+04\n",
       "GAOO       4.690312e+04\n",
       "MOBA       4.383460e+03\n",
       "dtype: float64"
      ]
     },
     "execution_count": 20,
     "metadata": {},
     "output_type": "execute_result"
    }
   ],
   "source": [
    "df_rel_change.nlargest(20)"
   ]
  },
  {
   "cell_type": "code",
   "execution_count": 21,
   "metadata": {},
   "outputs": [
    {
     "data": {
      "text/plain": [
       "AERI        0.000000e+00\n",
       "ISALA       0.000000e+00\n",
       "ISALC       0.000000e+00\n",
       "ISN1OA      0.000000e+00\n",
       "LVOCOA      0.000000e+00\n",
       "SOAGX       0.000000e+00\n",
       "SOAIE       0.000000e+00\n",
       "SOAME       0.000000e+00\n",
       "SOAMG       0.000000e+00\n",
       "BrSALC      0.000000e+00\n",
       "BrSALA      0.000000e+00\n",
       "H2          0.000000e+00\n",
       "MOH         0.000000e+00\n",
       "N2          0.000000e+00\n",
       "O2          0.000000e+00\n",
       "RCOOH       0.000000e+00\n",
       "INDIOL      3.835482e-15\n",
       "DHDC        3.487115e-09\n",
       "H2O         7.909123e-09\n",
       "CFC115      3.463939e-08\n",
       "CH2ICl      5.987170e-08\n",
       "H1301       1.018120e-07\n",
       "CFC114      2.137403e-07\n",
       "H1211       2.383889e-07\n",
       "H2402       2.979862e-07\n",
       "CFC12       2.989795e-07\n",
       "N2O         3.260212e-07\n",
       "CFC113      4.320800e-07\n",
       "CFC11       5.026034e-07\n",
       "CCl4        7.047374e-07\n",
       "MONITA      4.934424e-06\n",
       "IONITA      4.934424e-06\n",
       "CH2IBr      6.726658e-06\n",
       "HCFC142b    3.757671e-05\n",
       "OCS         5.402670e-05\n",
       "CH4         6.827301e-05\n",
       "HCFC22      7.520871e-05\n",
       "HCFC141b    8.395256e-05\n",
       "CH3CCl3     1.632620e-04\n",
       "CH3Br       8.948233e-04\n",
       "dtype: float64"
      ]
     },
     "execution_count": 21,
     "metadata": {},
     "output_type": "execute_result"
    }
   ],
   "source": [
    "df_rel_change.nsmallest(40)"
   ]
  },
  {
   "cell_type": "markdown",
   "metadata": {},
   "source": [
    "# Fitting"
   ]
  },
  {
   "cell_type": "code",
   "execution_count": 22,
   "metadata": {},
   "outputs": [
    {
     "name": "stderr",
     "output_type": "stream",
     "text": [
      "Using TensorFlow backend.\n"
     ]
    }
   ],
   "source": [
    "from sklearn.preprocessing import StandardScaler\n",
    "from sklearn.metrics import mean_squared_error, r2_score\n",
    "\n",
    "from keras.models import Sequential\n",
    "from keras.layers import Dense, Activation"
   ]
  },
  {
   "cell_type": "code",
   "execution_count": 23,
   "metadata": {},
   "outputs": [
    {
     "data": {
      "text/plain": [
       "Index(['CH2I2', 'CO2', 'ISN1OG', 'LBRO2H', 'LBRO2N', 'LISOPOH', 'LISOPNO3',\n",
       "       'LTRO2H', 'LTRO2N', 'LVOC',\n",
       "       ...\n",
       "       'HCl', 'O1D', 'Cl', 'O', 'NO3', 'NO2', 'O3', 'HO2', 'ClO', 'OH'],\n",
       "      dtype='object', length=188)"
      ]
     },
     "execution_count": 23,
     "metadata": {},
     "output_type": "execute_result"
    }
   ],
   "source": [
    "changed_spec = df_result.columns[df_rel_change > 0.01]\n",
    "changed_spec"
   ]
  },
  {
   "cell_type": "code",
   "execution_count": 24,
   "metadata": {},
   "outputs": [
    {
     "data": {
      "text/plain": [
       "(20, 188)"
      ]
     },
     "execution_count": 24,
     "metadata": {},
     "output_type": "execute_result"
    }
   ],
   "source": [
    "Y_train = StandardScaler().fit_transform(df_result[changed_spec].values)\n",
    "Y_train.shape"
   ]
  },
  {
   "cell_type": "code",
   "execution_count": 25,
   "metadata": {},
   "outputs": [
    {
     "data": {
      "text/plain": [
       "(20, 1)"
      ]
     },
     "execution_count": 25,
     "metadata": {},
     "output_type": "execute_result"
    }
   ],
   "source": [
    "X_train = StandardScaler().fit_transform(grid_x.reshape(-1, 1))\n",
    "X_train.shape"
   ]
  },
  {
   "cell_type": "code",
   "execution_count": 26,
   "metadata": {},
   "outputs": [],
   "source": [
    "model = Sequential([\n",
    "    Dense(20, input_shape=(X_train.shape[1],)),\n",
    "    Activation('tanh'),\n",
    "    Dense(50),\n",
    "    Activation('tanh'),\n",
    "    Dense(Y_train.shape[1])\n",
    "])\n",
    "\n",
    "model.compile(optimizer='adam', loss='mse')"
   ]
  },
  {
   "cell_type": "code",
   "execution_count": 27,
   "metadata": {},
   "outputs": [
    {
     "name": "stdout",
     "output_type": "stream",
     "text": [
      "Epoch 1/2\n",
      "20/20 [==============================] - 0s 42us/step - loss: 7.3082e-06\n",
      "Epoch 2/2\n",
      "20/20 [==============================] - 0s 55us/step - loss: 8.0913e-06\n",
      "CPU times: user 6.36 s, sys: 1.11 s, total: 7.47 s\n",
      "Wall time: 4.41 s\n"
     ]
    }
   ],
   "source": [
    "%%time\n",
    "model.fit(X_train, Y_train, epochs=5000, verbose=0)\n",
    "model.fit(X_train, Y_train, epochs=2, verbose=1)"
   ]
  },
  {
   "cell_type": "code",
   "execution_count": 28,
   "metadata": {},
   "outputs": [
    {
     "data": {
      "text/plain": [
       "0.99998871401209"
      ]
     },
     "execution_count": 28,
     "metadata": {},
     "output_type": "execute_result"
    }
   ],
   "source": [
    "Y_pred_train = model.predict(X_train)\n",
    "r2_score(Y_pred_train, Y_train)"
   ]
  },
  {
   "cell_type": "code",
   "execution_count": 29,
   "metadata": {},
   "outputs": [
    {
     "data": {
      "text/plain": [
       "<matplotlib.collections.PathCollection at 0x1c2fdd7fd0>"
      ]
     },
     "execution_count": 29,
     "metadata": {},
     "output_type": "execute_result"
    },
    {
     "data": {
      "image/png": "[encoded data removed]",
      "text/plain": [
       "<Figure size 432x288 with 1 Axes>"
      ]
     },
     "metadata": {},
     "output_type": "display_data"
    }
   ],
   "source": [
    "# almost perfect\n",
    "plt.scatter(Y_pred_train, Y_train, alpha=0.2, s=4)"
   ]
  },
  {
   "cell_type": "code",
   "execution_count": null,
   "metadata": {},
   "outputs": [],
   "source": []
  }
 ],
 "metadata": {
  "kernelspec": {
   "display_name": "Python 3",
   "language": "python",
   "name": "python3"
  },
  "language_info": {
   "codemirror_mode": {
    "name": "ipython",
    "version": 3
   },
   "file_extension": ".py",
   "mimetype": "text/x-python",
   "name": "python",
   "nbconvert_exporter": "python",
   "pygments_lexer": "ipython3",
   "version": "3.6.6"
  }
 },
 "nbformat": 4,
 "nbformat_minor": 2
}
