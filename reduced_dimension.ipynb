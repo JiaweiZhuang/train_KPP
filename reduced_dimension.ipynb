{
 "cells": [
  {
   "cell_type": "code",
   "execution_count": 1,
   "metadata": {},
   "outputs": [],
   "source": [
    "%matplotlib inline\n",
    "import matplotlib.pyplot as plt\n",
    "import numpy as np\n",
    "import pandas as pd\n",
    "import xarray as xr\n",
    "import seaborn as sns\n",
    "\n",
    "from ipywidgets import interact, SelectionSlider, IntSlider"
   ]
  },
  {
   "cell_type": "code",
   "execution_count": 2,
   "metadata": {},
   "outputs": [],
   "source": [
    "import metadata_util\n",
    "spec_names = metadata_util.read_spec_names()\n",
    "phy_names = metadata_util.get_phy_names()\n",
    "jval_names = metadata_util.read_jval_names()"
   ]
  },
  {
   "cell_type": "code",
   "execution_count": 3,
   "metadata": {},
   "outputs": [],
   "source": [
    "import sys\n",
    "sys.path.append(\"../../GEOSChem/KPP4GC/GC_12_Standard/\") # dirty fix to allow importing\n",
    "import kpp4py"
   ]
  },
  {
   "cell_type": "code",
   "execution_count": 4,
   "metadata": {},
   "outputs": [
    {
     "data": {
      "text/plain": [
       "<xarray.Dataset>\n",
       "Dimensions:   (lat: 46, lev: 72, lon: 72, nphotol: 130, nphy: 4, nreact: 725, nspec: 240)\n",
       "Coordinates:\n",
       "  * nspec     (nspec) <U8 'CH2I2' 'CH2ICl' 'CH2IBr' 'AERI' 'CO2' 'INDIOL' ...\n",
       "  * nphotol   (nphotol) object '1/O2/O2' '2/O3/O3' '3/O3/O3(1D)' '4/H2O/H2O' ...\n",
       "  * nphy      (nphy) <U6 'TEMP' 'PRESS' 'NUMDEN' 'H2O'\n",
       "Dimensions without coordinates: lat, lev, lon, nreact\n",
       "Data variables:\n",
       "    C_before  (lev, lat, lon, nspec) float64 ...\n",
       "    C_after   (lev, lat, lon, nspec) float64 ...\n",
       "    PHOTOL    (lev, lat, lon, nphotol) float64 ...\n",
       "    PHY       (lev, lat, lon, nphy) float64 ...\n",
       "    RCONST    (lev, lat, lon, nreact) float64 ..."
      ]
     },
     "execution_count": 4,
     "metadata": {},
     "output_type": "execute_result"
    }
   ],
   "source": [
    "ds = xr.open_dataset('./KPP_fields_100.nc')\n",
    "ds.coords['nspec'] = spec_names\n",
    "ds.coords['nphotol'] = jval_names\n",
    "ds.coords['nphy'] = phy_names\n",
    "ds"
   ]
  },
  {
   "cell_type": "code",
   "execution_count": 5,
   "metadata": {},
   "outputs": [
    {
     "data": {
      "text/plain": [
       "<xarray.Dataset>\n",
       "Dimensions:   (nphotol: 130, nphy: 4, nreact: 725, nspec: 240)\n",
       "Coordinates:\n",
       "  * nspec     (nspec) <U8 'CH2I2' 'CH2ICl' 'CH2IBr' 'AERI' 'CO2' 'INDIOL' ...\n",
       "  * nphotol   (nphotol) object '1/O2/O2' '2/O3/O3' '3/O3/O3(1D)' '4/H2O/H2O' ...\n",
       "  * nphy      (nphy) <U6 'TEMP' 'PRESS' 'NUMDEN' 'H2O'\n",
       "Dimensions without coordinates: nreact\n",
       "Data variables:\n",
       "    C_before  (nspec) float64 1.803e+04 2.358e+05 3.319e+04 9.041e+05 0.0 ...\n",
       "    C_after   (nspec) float64 1.358e+04 2.232e+05 2.919e+04 9.041e+05 ...\n",
       "    PHOTOL    (nphotol) float64 2.057e-11 0.0002036 0.0001275 0.0 0.0 ...\n",
       "    PHY       (nphy) float64 200.6 296.9 8.097e+18 5.378e+16\n",
       "    RCONST    (nreact) float64 6.37e-15 3.152e-14 1.107e-15 7.199e-18 ..."
      ]
     },
     "execution_count": 5,
     "metadata": {},
     "output_type": "execute_result"
    }
   ],
   "source": [
    "ds_mean = ds.mean(dim=['lev', 'lat', 'lon'])\n",
    "ds_mean"
   ]
  },
  {
   "cell_type": "markdown",
   "metadata": {},
   "source": [
    "# Choose reference point"
   ]
  },
  {
   "cell_type": "code",
   "execution_count": 6,
   "metadata": {},
   "outputs": [
    {
     "data": {
      "text/plain": [
       "((240,), (4,), (130,))"
      ]
     },
     "execution_count": 6,
     "metadata": {},
     "output_type": "execute_result"
    }
   ],
   "source": [
    "ref_c_before = ds_mean['C_before'].values\n",
    "ref_phy = ds_mean['PHY'].values\n",
    "ref_photol = ds_mean['PHOTOL'].values\n",
    "\n",
    "ref_c_before.shape, ref_phy.shape, ref_photol.shape"
   ]
  },
  {
   "cell_type": "code",
   "execution_count": 7,
   "metadata": {},
   "outputs": [
    {
     "data": {
      "text/plain": [
       "(374,)"
      ]
     },
     "execution_count": 7,
     "metadata": {},
     "output_type": "execute_result"
    }
   ],
   "source": [
    "ref_features = np.r_[ref_c_before, ref_phy, ref_photol]\n",
    "ref_features.shape"
   ]
  },
  {
   "cell_type": "code",
   "execution_count": 8,
   "metadata": {},
   "outputs": [
    {
     "data": {
      "text/plain": [
       "(240,)"
      ]
     },
     "execution_count": 8,
     "metadata": {},
     "output_type": "execute_result"
    }
   ],
   "source": [
    "ref_c_after = kpp4py.onestep(ref_c_before, ref_phy, ref_photol).ravel()\n",
    "ref_c_after.shape"
   ]
  },
  {
   "cell_type": "code",
   "execution_count": 9,
   "metadata": {},
   "outputs": [
    {
     "data": {
      "text/plain": [
       "374"
      ]
     },
     "execution_count": 9,
     "metadata": {},
     "output_type": "execute_result"
    }
   ],
   "source": [
    "n_c = ref_c_before.shape[0]\n",
    "n_phy = ref_phy.shape[0]\n",
    "n_jv = ref_photol.shape[0]\n",
    "\n",
    "n_features = n_c + n_phy + n_jv\n",
    "n_features"
   ]
  },
  {
   "cell_type": "markdown",
   "metadata": {},
   "source": [
    "# Change a particular input variable"
   ]
  },
  {
   "cell_type": "code",
   "execution_count": 10,
   "metadata": {},
   "outputs": [
    {
     "data": {
      "text/plain": [
       "230"
      ]
     },
     "execution_count": 10,
     "metadata": {},
     "output_type": "execute_result"
    }
   ],
   "source": [
    "var = 'O3'\n",
    "idx = spec_names.index(var)\n",
    "idx"
   ]
  },
  {
   "cell_type": "code",
   "execution_count": 11,
   "metadata": {},
   "outputs": [
    {
     "data": {
      "text/plain": [
       "(238464,)"
      ]
     },
     "execution_count": 11,
     "metadata": {},
     "output_type": "execute_result"
    }
   ],
   "source": [
    "original_sample = ds['C_before'].sel(nspec=var).values.ravel()\n",
    "original_sample.shape"
   ]
  },
  {
   "cell_type": "code",
   "execution_count": 12,
   "metadata": {},
   "outputs": [
    {
     "data": {
      "text/plain": [
       "(<matplotlib.lines.Line2D at 0x1c208060b8>,)"
      ]
     },
     "execution_count": 12,
     "metadata": {},
     "output_type": "execute_result"
    },
    {
     "data": {
      "image/png": "[encoded data removed]",
      "text/plain": [
       "<Figure size 432x288 with 1 Axes>"
      ]
     },
     "metadata": {},
     "output_type": "display_data"
    }
   ],
   "source": [
    "q0 = np.quantile(original_sample, 0.1)\n",
    "q1 = np.quantile(original_sample, 0.9)\n",
    "plt.hist(original_sample)\n",
    "plt.axvline(q0, c='k'); plt.axvline(q1, c='k'),"
   ]
  },
  {
   "cell_type": "code",
   "execution_count": 13,
   "metadata": {},
   "outputs": [],
   "source": [
    "# change this particular feature\n",
    "n_grid = 20\n",
    "\n",
    "grid_features = np.empty([n_grid, n_features])\n",
    "grid_features[:] = ref_features\n",
    "\n",
    "grid_x = np.linspace(q0, q1, n_grid)\n",
    "grid_features[:,idx] = grid_x"
   ]
  },
  {
   "cell_type": "code",
   "execution_count": 14,
   "metadata": {},
   "outputs": [],
   "source": [
    "def solve_kpp(features):\n",
    "    c_before = features[:,0:n_c]\n",
    "    phy = features[:,n_c:n_c+n_phy]\n",
    "    jvals = features[:,n_c+n_phy:]\n",
    "    \n",
    "    c_after = kpp4py.onestep(c_before.T, \n",
    "                             phy.T, \n",
    "                             jvals.T).T\n",
    "    return c_after"
   ]
  },
  {
   "cell_type": "code",
   "execution_count": 15,
   "metadata": {},
   "outputs": [
    {
     "data": {
      "text/plain": [
       "(20, 240)"
      ]
     },
     "execution_count": 15,
     "metadata": {},
     "output_type": "execute_result"
    }
   ],
   "source": [
    "grid_result = solve_kpp(grid_features)\n",
    "grid_result.shape"
   ]
  },
  {
   "cell_type": "code",
   "execution_count": 16,
   "metadata": {},
   "outputs": [
    {
     "data": {
      "text/plain": [
       "[<matplotlib.lines.Line2D at 0x1c20a43908>]"
      ]
     },
     "execution_count": 16,
     "metadata": {},
     "output_type": "execute_result"
    },
    {
     "data": {
      "image/png": "[encoded data removed]",
      "text/plain": [
       "<Figure size 432x288 with 1 Axes>"
      ]
     },
     "metadata": {},
     "output_type": "display_data"
    }
   ],
   "source": [
    "idy = spec_names.index('NO')\n",
    "\n",
    "plt.plot(grid_x, grid_result[:,idy])"
   ]
  },
  {
   "cell_type": "code",
   "execution_count": 17,
   "metadata": {},
   "outputs": [
    {
     "data": {
      "application/vnd.jupyter.widget-view+json": {
       "model_id": "88abd7906c774f9d9d82323083a710c9",
       "version_major": 2,
       "version_minor": 0
      },
      "text/plain": [
       "interactive(children=(SelectionSlider(description='var', options=('CH2I2', 'CH2ICl', 'CH2IBr', 'AERI', 'CO2', …"
      ]
     },
     "metadata": {},
     "output_type": "display_data"
    }
   ],
   "source": [
    "@interact(var=SelectionSlider(options=spec_names))\n",
    "def plot_response(var):\n",
    "    idy = spec_names.index(var)\n",
    "    plt.plot(grid_x, grid_result[:,idy])\n",
    "    plt.ylabel(var)"
   ]
  },
  {
   "cell_type": "markdown",
   "metadata": {},
   "source": [
    "# Fitting"
   ]
  },
  {
   "cell_type": "code",
   "execution_count": 18,
   "metadata": {},
   "outputs": [
    {
     "data": {
      "text/plain": [
       "'0.4.1'"
      ]
     },
     "execution_count": 18,
     "metadata": {},
     "output_type": "execute_result"
    }
   ],
   "source": [
    "import torch\n",
    "torch.__version__"
   ]
  },
  {
   "cell_type": "code",
   "execution_count": null,
   "metadata": {},
   "outputs": [],
   "source": []
  }
 ],
 "metadata": {
  "kernelspec": {
   "display_name": "Python 3",
   "language": "python",
   "name": "python3"
  },
  "language_info": {
   "codemirror_mode": {
    "name": "ipython",
    "version": 3
   },
   "file_extension": ".py",
   "mimetype": "text/x-python",
   "name": "python",
   "nbconvert_exporter": "python",
   "pygments_lexer": "ipython3",
   "version": "3.6.6"
  }
 },
 "nbformat": 4,
 "nbformat_minor": 2
}
